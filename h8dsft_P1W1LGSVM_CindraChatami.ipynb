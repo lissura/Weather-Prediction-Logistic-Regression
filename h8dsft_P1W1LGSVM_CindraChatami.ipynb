{
  "cells": [
    {
      "cell_type": "markdown",
      "metadata": {
        "id": "KhA5BvDadmw8"
      },
      "source": [
        "# 1. Perkenalan\n",
        "1. Nama : Cindra Chatami\n",
        "2. Batch : 9 FTDS\n",
        "\n",
        "Dataset yang digunakan didapatkan dari [Kaggle](https://www.kaggle.com/jsphyg/weather-dataset-rattle-package). Data ini merupakan observasi cuaca selama 10 tahun yang berlokasi di Australia. Dengan dataset ini, saya akan membuat model untuk memprediksi turunnya hujan dihari esok (hujan / tidak hujan). Model yang digunakan adalah **Logistic Regression & LinearSVC** dengan hyperparameter terbaiknya. Aakan dilakukan komprasi antara 2 model agar mendapatkan model terbaik untuk memprediksi cuaca besok"
      ]
    },
    {
      "cell_type": "markdown",
      "metadata": {
        "id": "TahsaxJxAOMy"
      },
      "source": [
        "\n",
        "# 2. Import Library"
      ]
    },
    {
      "cell_type": "code",
      "execution_count": 1,
      "metadata": {
        "id": "jpjUIsLcAOM-"
      },
      "outputs": [],
      "source": [
        "#untuk EDA\n",
        "import pandas as pd\n",
        "import numpy as np\n",
        "import matplotlib.pyplot as plt\n",
        "import seaborn as sns\n",
        "\n",
        "\n",
        "#untuk preprocessing\n",
        "from sklearn.model_selection import train_test_split, GridSearchCV\n",
        "from sklearn.compose import ColumnTransformer\n",
        "from sklearn.pipeline import Pipeline\n",
        "from sklearn.impute import SimpleImputer\n",
        "from sklearn.metrics import *\n",
        "from sklearn.preprocessing import OrdinalEncoder, MinMaxScaler\n",
        "\n",
        "\n",
        "#untuk model\n",
        "from sklearn.linear_model import LogisticRegression\n",
        "from sklearn.svm import  LinearSVC\n",
        "from sklearn.dummy import DummyClassifier\n",
        "\n",
        "import warnings\n",
        "warnings.filterwarnings(\"ignore\")\n"
      ]
    },
    {
      "cell_type": "markdown",
      "metadata": {
        "id": "74xnL8b3AONE"
      },
      "source": [
        "# 3. Data Loading"
      ]
    },
    {
      "cell_type": "code",
      "execution_count": 2,
      "metadata": {
        "id": "3DlBil2XAONH"
      },
      "outputs": [],
      "source": [
        "df = pd.read_csv('weatherAUS.csv')"
      ]
    },
    {
      "cell_type": "markdown",
      "metadata": {
        "id": "5j346b5AeauQ"
      },
      "source": [
        "Melihat jumlah entri data, nama kolom, dan tipe dari kolom."
      ]
    },
    {
      "cell_type": "code",
      "execution_count": 3,
      "metadata": {
        "colab": {
          "base_uri": "https://localhost:8080/"
        },
        "id": "wbQZpaAwAONL",
        "outputId": "53dc8cec-27d0-44be-8d04-6c56083e8ad3"
      },
      "outputs": [
        {
          "name": "stdout",
          "output_type": "stream",
          "text": [
            "<class 'pandas.core.frame.DataFrame'>\n",
            "RangeIndex: 145460 entries, 0 to 145459\n",
            "Data columns (total 23 columns):\n",
            " #   Column         Non-Null Count   Dtype  \n",
            "---  ------         --------------   -----  \n",
            " 0   Date           145460 non-null  object \n",
            " 1   Location       145460 non-null  object \n",
            " 2   MinTemp        143975 non-null  float64\n",
            " 3   MaxTemp        144199 non-null  float64\n",
            " 4   Rainfall       142199 non-null  float64\n",
            " 5   Evaporation    82670 non-null   float64\n",
            " 6   Sunshine       75625 non-null   float64\n",
            " 7   WindGustDir    135134 non-null  object \n",
            " 8   WindGustSpeed  135197 non-null  float64\n",
            " 9   WindDir9am     134894 non-null  object \n",
            " 10  WindDir3pm     141232 non-null  object \n",
            " 11  WindSpeed9am   143693 non-null  float64\n",
            " 12  WindSpeed3pm   142398 non-null  float64\n",
            " 13  Humidity9am    142806 non-null  float64\n",
            " 14  Humidity3pm    140953 non-null  float64\n",
            " 15  Pressure9am    130395 non-null  float64\n",
            " 16  Pressure3pm    130432 non-null  float64\n",
            " 17  Cloud9am       89572 non-null   float64\n",
            " 18  Cloud3pm       86102 non-null   float64\n",
            " 19  Temp9am        143693 non-null  float64\n",
            " 20  Temp3pm        141851 non-null  float64\n",
            " 21  RainToday      142199 non-null  object \n",
            " 22  RainTomorrow   142193 non-null  object \n",
            "dtypes: float64(16), object(7)\n",
            "memory usage: 25.5+ MB\n"
          ]
        }
      ],
      "source": [
        "df.info()\n"
      ]
    },
    {
      "cell_type": "markdown",
      "metadata": {
        "id": "o5xT6HYLegzS"
      },
      "source": [
        "> Dataset ini memiliki 145460 Entri . Banyak dari kolom pada dataset ini memiliki missing value (value yang hilang) kecuali pada kolom Date & Location. Karena merupakan observasi cauca, mayoritas dari kolom ini memiliki tipe float (angka)."
      ]
    },
    {
      "cell_type": "code",
      "execution_count": 4,
      "metadata": {
        "id": "vcFflD6PAONR"
      },
      "outputs": [],
      "source": [
        "pd.set_option('display.max_columns', None)\n",
        "#konfigurasi agar dapat melihat semua kolom"
      ]
    },
    {
      "cell_type": "code",
      "execution_count": 5,
      "metadata": {
        "colab": {
          "base_uri": "https://localhost:8080/",
          "height": 356
        },
        "id": "vikUdh5xAONT",
        "outputId": "e7de0644-8736-4def-c775-530a2a3f745e"
      },
      "outputs": [
        {
          "data": {
            "text/html": [
              "\n",
              "  <div id=\"df-8c1425f8-7c44-42f6-bfae-2747a9861e53\">\n",
              "    <div class=\"colab-df-container\">\n",
              "      <div>\n",
              "<style scoped>\n",
              "    .dataframe tbody tr th:only-of-type {\n",
              "        vertical-align: middle;\n",
              "    }\n",
              "\n",
              "    .dataframe tbody tr th {\n",
              "        vertical-align: top;\n",
              "    }\n",
              "\n",
              "    .dataframe thead th {\n",
              "        text-align: right;\n",
              "    }\n",
              "</style>\n",
              "<table border=\"1\" class=\"dataframe\">\n",
              "  <thead>\n",
              "    <tr style=\"text-align: right;\">\n",
              "      <th></th>\n",
              "      <th>Date</th>\n",
              "      <th>Location</th>\n",
              "      <th>MinTemp</th>\n",
              "      <th>MaxTemp</th>\n",
              "      <th>Rainfall</th>\n",
              "      <th>Evaporation</th>\n",
              "      <th>Sunshine</th>\n",
              "      <th>WindGustDir</th>\n",
              "      <th>WindGustSpeed</th>\n",
              "      <th>WindDir9am</th>\n",
              "      <th>WindDir3pm</th>\n",
              "      <th>WindSpeed9am</th>\n",
              "      <th>WindSpeed3pm</th>\n",
              "      <th>Humidity9am</th>\n",
              "      <th>Humidity3pm</th>\n",
              "      <th>Pressure9am</th>\n",
              "      <th>Pressure3pm</th>\n",
              "      <th>Cloud9am</th>\n",
              "      <th>Cloud3pm</th>\n",
              "      <th>Temp9am</th>\n",
              "      <th>Temp3pm</th>\n",
              "      <th>RainToday</th>\n",
              "      <th>RainTomorrow</th>\n",
              "    </tr>\n",
              "  </thead>\n",
              "  <tbody>\n",
              "    <tr>\n",
              "      <th>0</th>\n",
              "      <td>2008-12-01</td>\n",
              "      <td>Albury</td>\n",
              "      <td>13.4</td>\n",
              "      <td>22.9</td>\n",
              "      <td>0.6</td>\n",
              "      <td>NaN</td>\n",
              "      <td>NaN</td>\n",
              "      <td>W</td>\n",
              "      <td>44.0</td>\n",
              "      <td>W</td>\n",
              "      <td>WNW</td>\n",
              "      <td>20.0</td>\n",
              "      <td>24.0</td>\n",
              "      <td>71.0</td>\n",
              "      <td>22.0</td>\n",
              "      <td>1007.7</td>\n",
              "      <td>1007.1</td>\n",
              "      <td>8.0</td>\n",
              "      <td>NaN</td>\n",
              "      <td>16.9</td>\n",
              "      <td>21.8</td>\n",
              "      <td>No</td>\n",
              "      <td>No</td>\n",
              "    </tr>\n",
              "    <tr>\n",
              "      <th>1</th>\n",
              "      <td>2008-12-02</td>\n",
              "      <td>Albury</td>\n",
              "      <td>7.4</td>\n",
              "      <td>25.1</td>\n",
              "      <td>0.0</td>\n",
              "      <td>NaN</td>\n",
              "      <td>NaN</td>\n",
              "      <td>WNW</td>\n",
              "      <td>44.0</td>\n",
              "      <td>NNW</td>\n",
              "      <td>WSW</td>\n",
              "      <td>4.0</td>\n",
              "      <td>22.0</td>\n",
              "      <td>44.0</td>\n",
              "      <td>25.0</td>\n",
              "      <td>1010.6</td>\n",
              "      <td>1007.8</td>\n",
              "      <td>NaN</td>\n",
              "      <td>NaN</td>\n",
              "      <td>17.2</td>\n",
              "      <td>24.3</td>\n",
              "      <td>No</td>\n",
              "      <td>No</td>\n",
              "    </tr>\n",
              "    <tr>\n",
              "      <th>2</th>\n",
              "      <td>2008-12-03</td>\n",
              "      <td>Albury</td>\n",
              "      <td>12.9</td>\n",
              "      <td>25.7</td>\n",
              "      <td>0.0</td>\n",
              "      <td>NaN</td>\n",
              "      <td>NaN</td>\n",
              "      <td>WSW</td>\n",
              "      <td>46.0</td>\n",
              "      <td>W</td>\n",
              "      <td>WSW</td>\n",
              "      <td>19.0</td>\n",
              "      <td>26.0</td>\n",
              "      <td>38.0</td>\n",
              "      <td>30.0</td>\n",
              "      <td>1007.6</td>\n",
              "      <td>1008.7</td>\n",
              "      <td>NaN</td>\n",
              "      <td>2.0</td>\n",
              "      <td>21.0</td>\n",
              "      <td>23.2</td>\n",
              "      <td>No</td>\n",
              "      <td>No</td>\n",
              "    </tr>\n",
              "    <tr>\n",
              "      <th>3</th>\n",
              "      <td>2008-12-04</td>\n",
              "      <td>Albury</td>\n",
              "      <td>9.2</td>\n",
              "      <td>28.0</td>\n",
              "      <td>0.0</td>\n",
              "      <td>NaN</td>\n",
              "      <td>NaN</td>\n",
              "      <td>NE</td>\n",
              "      <td>24.0</td>\n",
              "      <td>SE</td>\n",
              "      <td>E</td>\n",
              "      <td>11.0</td>\n",
              "      <td>9.0</td>\n",
              "      <td>45.0</td>\n",
              "      <td>16.0</td>\n",
              "      <td>1017.6</td>\n",
              "      <td>1012.8</td>\n",
              "      <td>NaN</td>\n",
              "      <td>NaN</td>\n",
              "      <td>18.1</td>\n",
              "      <td>26.5</td>\n",
              "      <td>No</td>\n",
              "      <td>No</td>\n",
              "    </tr>\n",
              "    <tr>\n",
              "      <th>4</th>\n",
              "      <td>2008-12-05</td>\n",
              "      <td>Albury</td>\n",
              "      <td>17.5</td>\n",
              "      <td>32.3</td>\n",
              "      <td>1.0</td>\n",
              "      <td>NaN</td>\n",
              "      <td>NaN</td>\n",
              "      <td>W</td>\n",
              "      <td>41.0</td>\n",
              "      <td>ENE</td>\n",
              "      <td>NW</td>\n",
              "      <td>7.0</td>\n",
              "      <td>20.0</td>\n",
              "      <td>82.0</td>\n",
              "      <td>33.0</td>\n",
              "      <td>1010.8</td>\n",
              "      <td>1006.0</td>\n",
              "      <td>7.0</td>\n",
              "      <td>8.0</td>\n",
              "      <td>17.8</td>\n",
              "      <td>29.7</td>\n",
              "      <td>No</td>\n",
              "      <td>No</td>\n",
              "    </tr>\n",
              "  </tbody>\n",
              "</table>\n",
              "</div>\n",
              "      <button class=\"colab-df-convert\" onclick=\"convertToInteractive('df-8c1425f8-7c44-42f6-bfae-2747a9861e53')\"\n",
              "              title=\"Convert this dataframe to an interactive table.\"\n",
              "              style=\"display:none;\">\n",
              "        \n",
              "  <svg xmlns=\"http://www.w3.org/2000/svg\" height=\"24px\"viewBox=\"0 0 24 24\"\n",
              "       width=\"24px\">\n",
              "    <path d=\"M0 0h24v24H0V0z\" fill=\"none\"/>\n",
              "    <path d=\"M18.56 5.44l.94 2.06.94-2.06 2.06-.94-2.06-.94-.94-2.06-.94 2.06-2.06.94zm-11 1L8.5 8.5l.94-2.06 2.06-.94-2.06-.94L8.5 2.5l-.94 2.06-2.06.94zm10 10l.94 2.06.94-2.06 2.06-.94-2.06-.94-.94-2.06-.94 2.06-2.06.94z\"/><path d=\"M17.41 7.96l-1.37-1.37c-.4-.4-.92-.59-1.43-.59-.52 0-1.04.2-1.43.59L10.3 9.45l-7.72 7.72c-.78.78-.78 2.05 0 2.83L4 21.41c.39.39.9.59 1.41.59.51 0 1.02-.2 1.41-.59l7.78-7.78 2.81-2.81c.8-.78.8-2.07 0-2.86zM5.41 20L4 18.59l7.72-7.72 1.47 1.35L5.41 20z\"/>\n",
              "  </svg>\n",
              "      </button>\n",
              "      \n",
              "  <style>\n",
              "    .colab-df-container {\n",
              "      display:flex;\n",
              "      flex-wrap:wrap;\n",
              "      gap: 12px;\n",
              "    }\n",
              "\n",
              "    .colab-df-convert {\n",
              "      background-color: #E8F0FE;\n",
              "      border: none;\n",
              "      border-radius: 50%;\n",
              "      cursor: pointer;\n",
              "      display: none;\n",
              "      fill: #1967D2;\n",
              "      height: 32px;\n",
              "      padding: 0 0 0 0;\n",
              "      width: 32px;\n",
              "    }\n",
              "\n",
              "    .colab-df-convert:hover {\n",
              "      background-color: #E2EBFA;\n",
              "      box-shadow: 0px 1px 2px rgba(60, 64, 67, 0.3), 0px 1px 3px 1px rgba(60, 64, 67, 0.15);\n",
              "      fill: #174EA6;\n",
              "    }\n",
              "\n",
              "    [theme=dark] .colab-df-convert {\n",
              "      background-color: #3B4455;\n",
              "      fill: #D2E3FC;\n",
              "    }\n",
              "\n",
              "    [theme=dark] .colab-df-convert:hover {\n",
              "      background-color: #434B5C;\n",
              "      box-shadow: 0px 1px 3px 1px rgba(0, 0, 0, 0.15);\n",
              "      filter: drop-shadow(0px 1px 2px rgba(0, 0, 0, 0.3));\n",
              "      fill: #FFFFFF;\n",
              "    }\n",
              "  </style>\n",
              "\n",
              "      <script>\n",
              "        const buttonEl =\n",
              "          document.querySelector('#df-8c1425f8-7c44-42f6-bfae-2747a9861e53 button.colab-df-convert');\n",
              "        buttonEl.style.display =\n",
              "          google.colab.kernel.accessAllowed ? 'block' : 'none';\n",
              "\n",
              "        async function convertToInteractive(key) {\n",
              "          const element = document.querySelector('#df-8c1425f8-7c44-42f6-bfae-2747a9861e53');\n",
              "          const dataTable =\n",
              "            await google.colab.kernel.invokeFunction('convertToInteractive',\n",
              "                                                     [key], {});\n",
              "          if (!dataTable) return;\n",
              "\n",
              "          const docLinkHtml = 'Like what you see? Visit the ' +\n",
              "            '<a target=\"_blank\" href=https://colab.research.google.com/notebooks/data_table.ipynb>data table notebook</a>'\n",
              "            + ' to learn more about interactive tables.';\n",
              "          element.innerHTML = '';\n",
              "          dataTable['output_type'] = 'display_data';\n",
              "          await google.colab.output.renderOutput(dataTable, element);\n",
              "          const docLink = document.createElement('div');\n",
              "          docLink.innerHTML = docLinkHtml;\n",
              "          element.appendChild(docLink);\n",
              "        }\n",
              "      </script>\n",
              "    </div>\n",
              "  </div>\n",
              "  "
            ],
            "text/plain": [
              "         Date Location  MinTemp  MaxTemp  Rainfall  Evaporation  Sunshine  \\\n",
              "0  2008-12-01   Albury     13.4     22.9       0.6          NaN       NaN   \n",
              "1  2008-12-02   Albury      7.4     25.1       0.0          NaN       NaN   \n",
              "2  2008-12-03   Albury     12.9     25.7       0.0          NaN       NaN   \n",
              "3  2008-12-04   Albury      9.2     28.0       0.0          NaN       NaN   \n",
              "4  2008-12-05   Albury     17.5     32.3       1.0          NaN       NaN   \n",
              "\n",
              "  WindGustDir  WindGustSpeed WindDir9am WindDir3pm  WindSpeed9am  \\\n",
              "0           W           44.0          W        WNW          20.0   \n",
              "1         WNW           44.0        NNW        WSW           4.0   \n",
              "2         WSW           46.0          W        WSW          19.0   \n",
              "3          NE           24.0         SE          E          11.0   \n",
              "4           W           41.0        ENE         NW           7.0   \n",
              "\n",
              "   WindSpeed3pm  Humidity9am  Humidity3pm  Pressure9am  Pressure3pm  Cloud9am  \\\n",
              "0          24.0         71.0         22.0       1007.7       1007.1       8.0   \n",
              "1          22.0         44.0         25.0       1010.6       1007.8       NaN   \n",
              "2          26.0         38.0         30.0       1007.6       1008.7       NaN   \n",
              "3           9.0         45.0         16.0       1017.6       1012.8       NaN   \n",
              "4          20.0         82.0         33.0       1010.8       1006.0       7.0   \n",
              "\n",
              "   Cloud3pm  Temp9am  Temp3pm RainToday RainTomorrow  \n",
              "0       NaN     16.9     21.8        No           No  \n",
              "1       NaN     17.2     24.3        No           No  \n",
              "2       2.0     21.0     23.2        No           No  \n",
              "3       NaN     18.1     26.5        No           No  \n",
              "4       8.0     17.8     29.7        No           No  "
            ]
          },
          "execution_count": 5,
          "metadata": {},
          "output_type": "execute_result"
        }
      ],
      "source": [
        "df.head()"
      ]
    },
    {
      "cell_type": "markdown",
      "metadata": {
        "id": "pX1yn7IVAONU"
      },
      "source": [
        "- mintemp & maxtemp : The minimum & max temperature in degrees celsius\n",
        "- Rainfall : The amount of rainfall recorded for the day in mm\n",
        "- Evaporation : The so-called Class A pan evaporation (mm) in the 24 hours to 9am\n",
        "- Sunshine : The number of hours of bright sunshine in the day \n",
        "- windgustdir : The direction of the strongest wind gust in the 24 hours to midnight\n",
        "- windgustspeed : The speed (km/h) of the strongest wind gust in the 24 hours to midnight"
      ]
    },
    {
      "cell_type": "code",
      "execution_count": 6,
      "metadata": {
        "colab": {
          "base_uri": "https://localhost:8080/",
          "height": 364
        },
        "id": "lcLN2PqwANek",
        "outputId": "f6c2be0e-153c-4f4c-f0e3-e72e73086b4a"
      },
      "outputs": [
        {
          "data": {
            "text/html": [
              "\n",
              "  <div id=\"df-8f151057-2adc-4241-8a58-a4a4b53befd6\">\n",
              "    <div class=\"colab-df-container\">\n",
              "      <div>\n",
              "<style scoped>\n",
              "    .dataframe tbody tr th:only-of-type {\n",
              "        vertical-align: middle;\n",
              "    }\n",
              "\n",
              "    .dataframe tbody tr th {\n",
              "        vertical-align: top;\n",
              "    }\n",
              "\n",
              "    .dataframe thead th {\n",
              "        text-align: right;\n",
              "    }\n",
              "</style>\n",
              "<table border=\"1\" class=\"dataframe\">\n",
              "  <thead>\n",
              "    <tr style=\"text-align: right;\">\n",
              "      <th></th>\n",
              "      <th>MinTemp</th>\n",
              "      <th>MaxTemp</th>\n",
              "      <th>Rainfall</th>\n",
              "      <th>Evaporation</th>\n",
              "      <th>Sunshine</th>\n",
              "      <th>WindGustSpeed</th>\n",
              "      <th>WindSpeed9am</th>\n",
              "      <th>WindSpeed3pm</th>\n",
              "      <th>Humidity9am</th>\n",
              "      <th>Humidity3pm</th>\n",
              "      <th>Pressure9am</th>\n",
              "      <th>Pressure3pm</th>\n",
              "      <th>Cloud9am</th>\n",
              "      <th>Cloud3pm</th>\n",
              "      <th>Temp9am</th>\n",
              "      <th>Temp3pm</th>\n",
              "    </tr>\n",
              "  </thead>\n",
              "  <tbody>\n",
              "    <tr>\n",
              "      <th>count</th>\n",
              "      <td>143975.000000</td>\n",
              "      <td>144199.000000</td>\n",
              "      <td>142199.000000</td>\n",
              "      <td>82670.000000</td>\n",
              "      <td>75625.000000</td>\n",
              "      <td>135197.000000</td>\n",
              "      <td>143693.000000</td>\n",
              "      <td>142398.000000</td>\n",
              "      <td>142806.000000</td>\n",
              "      <td>140953.000000</td>\n",
              "      <td>130395.00000</td>\n",
              "      <td>130432.000000</td>\n",
              "      <td>89572.000000</td>\n",
              "      <td>86102.000000</td>\n",
              "      <td>143693.000000</td>\n",
              "      <td>141851.00000</td>\n",
              "    </tr>\n",
              "    <tr>\n",
              "      <th>mean</th>\n",
              "      <td>12.194034</td>\n",
              "      <td>23.221348</td>\n",
              "      <td>2.360918</td>\n",
              "      <td>5.468232</td>\n",
              "      <td>7.611178</td>\n",
              "      <td>40.035230</td>\n",
              "      <td>14.043426</td>\n",
              "      <td>18.662657</td>\n",
              "      <td>68.880831</td>\n",
              "      <td>51.539116</td>\n",
              "      <td>1017.64994</td>\n",
              "      <td>1015.255889</td>\n",
              "      <td>4.447461</td>\n",
              "      <td>4.509930</td>\n",
              "      <td>16.990631</td>\n",
              "      <td>21.68339</td>\n",
              "    </tr>\n",
              "    <tr>\n",
              "      <th>std</th>\n",
              "      <td>6.398495</td>\n",
              "      <td>7.119049</td>\n",
              "      <td>8.478060</td>\n",
              "      <td>4.193704</td>\n",
              "      <td>3.785483</td>\n",
              "      <td>13.607062</td>\n",
              "      <td>8.915375</td>\n",
              "      <td>8.809800</td>\n",
              "      <td>19.029164</td>\n",
              "      <td>20.795902</td>\n",
              "      <td>7.10653</td>\n",
              "      <td>7.037414</td>\n",
              "      <td>2.887159</td>\n",
              "      <td>2.720357</td>\n",
              "      <td>6.488753</td>\n",
              "      <td>6.93665</td>\n",
              "    </tr>\n",
              "    <tr>\n",
              "      <th>min</th>\n",
              "      <td>-8.500000</td>\n",
              "      <td>-4.800000</td>\n",
              "      <td>0.000000</td>\n",
              "      <td>0.000000</td>\n",
              "      <td>0.000000</td>\n",
              "      <td>6.000000</td>\n",
              "      <td>0.000000</td>\n",
              "      <td>0.000000</td>\n",
              "      <td>0.000000</td>\n",
              "      <td>0.000000</td>\n",
              "      <td>980.50000</td>\n",
              "      <td>977.100000</td>\n",
              "      <td>0.000000</td>\n",
              "      <td>0.000000</td>\n",
              "      <td>-7.200000</td>\n",
              "      <td>-5.40000</td>\n",
              "    </tr>\n",
              "    <tr>\n",
              "      <th>25%</th>\n",
              "      <td>7.600000</td>\n",
              "      <td>17.900000</td>\n",
              "      <td>0.000000</td>\n",
              "      <td>2.600000</td>\n",
              "      <td>4.800000</td>\n",
              "      <td>31.000000</td>\n",
              "      <td>7.000000</td>\n",
              "      <td>13.000000</td>\n",
              "      <td>57.000000</td>\n",
              "      <td>37.000000</td>\n",
              "      <td>1012.90000</td>\n",
              "      <td>1010.400000</td>\n",
              "      <td>1.000000</td>\n",
              "      <td>2.000000</td>\n",
              "      <td>12.300000</td>\n",
              "      <td>16.60000</td>\n",
              "    </tr>\n",
              "    <tr>\n",
              "      <th>50%</th>\n",
              "      <td>12.000000</td>\n",
              "      <td>22.600000</td>\n",
              "      <td>0.000000</td>\n",
              "      <td>4.800000</td>\n",
              "      <td>8.400000</td>\n",
              "      <td>39.000000</td>\n",
              "      <td>13.000000</td>\n",
              "      <td>19.000000</td>\n",
              "      <td>70.000000</td>\n",
              "      <td>52.000000</td>\n",
              "      <td>1017.60000</td>\n",
              "      <td>1015.200000</td>\n",
              "      <td>5.000000</td>\n",
              "      <td>5.000000</td>\n",
              "      <td>16.700000</td>\n",
              "      <td>21.10000</td>\n",
              "    </tr>\n",
              "    <tr>\n",
              "      <th>75%</th>\n",
              "      <td>16.900000</td>\n",
              "      <td>28.200000</td>\n",
              "      <td>0.800000</td>\n",
              "      <td>7.400000</td>\n",
              "      <td>10.600000</td>\n",
              "      <td>48.000000</td>\n",
              "      <td>19.000000</td>\n",
              "      <td>24.000000</td>\n",
              "      <td>83.000000</td>\n",
              "      <td>66.000000</td>\n",
              "      <td>1022.40000</td>\n",
              "      <td>1020.000000</td>\n",
              "      <td>7.000000</td>\n",
              "      <td>7.000000</td>\n",
              "      <td>21.600000</td>\n",
              "      <td>26.40000</td>\n",
              "    </tr>\n",
              "    <tr>\n",
              "      <th>max</th>\n",
              "      <td>33.900000</td>\n",
              "      <td>48.100000</td>\n",
              "      <td>371.000000</td>\n",
              "      <td>145.000000</td>\n",
              "      <td>14.500000</td>\n",
              "      <td>135.000000</td>\n",
              "      <td>130.000000</td>\n",
              "      <td>87.000000</td>\n",
              "      <td>100.000000</td>\n",
              "      <td>100.000000</td>\n",
              "      <td>1041.00000</td>\n",
              "      <td>1039.600000</td>\n",
              "      <td>9.000000</td>\n",
              "      <td>9.000000</td>\n",
              "      <td>40.200000</td>\n",
              "      <td>46.70000</td>\n",
              "    </tr>\n",
              "  </tbody>\n",
              "</table>\n",
              "</div>\n",
              "      <button class=\"colab-df-convert\" onclick=\"convertToInteractive('df-8f151057-2adc-4241-8a58-a4a4b53befd6')\"\n",
              "              title=\"Convert this dataframe to an interactive table.\"\n",
              "              style=\"display:none;\">\n",
              "        \n",
              "  <svg xmlns=\"http://www.w3.org/2000/svg\" height=\"24px\"viewBox=\"0 0 24 24\"\n",
              "       width=\"24px\">\n",
              "    <path d=\"M0 0h24v24H0V0z\" fill=\"none\"/>\n",
              "    <path d=\"M18.56 5.44l.94 2.06.94-2.06 2.06-.94-2.06-.94-.94-2.06-.94 2.06-2.06.94zm-11 1L8.5 8.5l.94-2.06 2.06-.94-2.06-.94L8.5 2.5l-.94 2.06-2.06.94zm10 10l.94 2.06.94-2.06 2.06-.94-2.06-.94-.94-2.06-.94 2.06-2.06.94z\"/><path d=\"M17.41 7.96l-1.37-1.37c-.4-.4-.92-.59-1.43-.59-.52 0-1.04.2-1.43.59L10.3 9.45l-7.72 7.72c-.78.78-.78 2.05 0 2.83L4 21.41c.39.39.9.59 1.41.59.51 0 1.02-.2 1.41-.59l7.78-7.78 2.81-2.81c.8-.78.8-2.07 0-2.86zM5.41 20L4 18.59l7.72-7.72 1.47 1.35L5.41 20z\"/>\n",
              "  </svg>\n",
              "      </button>\n",
              "      \n",
              "  <style>\n",
              "    .colab-df-container {\n",
              "      display:flex;\n",
              "      flex-wrap:wrap;\n",
              "      gap: 12px;\n",
              "    }\n",
              "\n",
              "    .colab-df-convert {\n",
              "      background-color: #E8F0FE;\n",
              "      border: none;\n",
              "      border-radius: 50%;\n",
              "      cursor: pointer;\n",
              "      display: none;\n",
              "      fill: #1967D2;\n",
              "      height: 32px;\n",
              "      padding: 0 0 0 0;\n",
              "      width: 32px;\n",
              "    }\n",
              "\n",
              "    .colab-df-convert:hover {\n",
              "      background-color: #E2EBFA;\n",
              "      box-shadow: 0px 1px 2px rgba(60, 64, 67, 0.3), 0px 1px 3px 1px rgba(60, 64, 67, 0.15);\n",
              "      fill: #174EA6;\n",
              "    }\n",
              "\n",
              "    [theme=dark] .colab-df-convert {\n",
              "      background-color: #3B4455;\n",
              "      fill: #D2E3FC;\n",
              "    }\n",
              "\n",
              "    [theme=dark] .colab-df-convert:hover {\n",
              "      background-color: #434B5C;\n",
              "      box-shadow: 0px 1px 3px 1px rgba(0, 0, 0, 0.15);\n",
              "      filter: drop-shadow(0px 1px 2px rgba(0, 0, 0, 0.3));\n",
              "      fill: #FFFFFF;\n",
              "    }\n",
              "  </style>\n",
              "\n",
              "      <script>\n",
              "        const buttonEl =\n",
              "          document.querySelector('#df-8f151057-2adc-4241-8a58-a4a4b53befd6 button.colab-df-convert');\n",
              "        buttonEl.style.display =\n",
              "          google.colab.kernel.accessAllowed ? 'block' : 'none';\n",
              "\n",
              "        async function convertToInteractive(key) {\n",
              "          const element = document.querySelector('#df-8f151057-2adc-4241-8a58-a4a4b53befd6');\n",
              "          const dataTable =\n",
              "            await google.colab.kernel.invokeFunction('convertToInteractive',\n",
              "                                                     [key], {});\n",
              "          if (!dataTable) return;\n",
              "\n",
              "          const docLinkHtml = 'Like what you see? Visit the ' +\n",
              "            '<a target=\"_blank\" href=https://colab.research.google.com/notebooks/data_table.ipynb>data table notebook</a>'\n",
              "            + ' to learn more about interactive tables.';\n",
              "          element.innerHTML = '';\n",
              "          dataTable['output_type'] = 'display_data';\n",
              "          await google.colab.output.renderOutput(dataTable, element);\n",
              "          const docLink = document.createElement('div');\n",
              "          docLink.innerHTML = docLinkHtml;\n",
              "          element.appendChild(docLink);\n",
              "        }\n",
              "      </script>\n",
              "    </div>\n",
              "  </div>\n",
              "  "
            ],
            "text/plain": [
              "             MinTemp        MaxTemp       Rainfall   Evaporation  \\\n",
              "count  143975.000000  144199.000000  142199.000000  82670.000000   \n",
              "mean       12.194034      23.221348       2.360918      5.468232   \n",
              "std         6.398495       7.119049       8.478060      4.193704   \n",
              "min        -8.500000      -4.800000       0.000000      0.000000   \n",
              "25%         7.600000      17.900000       0.000000      2.600000   \n",
              "50%        12.000000      22.600000       0.000000      4.800000   \n",
              "75%        16.900000      28.200000       0.800000      7.400000   \n",
              "max        33.900000      48.100000     371.000000    145.000000   \n",
              "\n",
              "           Sunshine  WindGustSpeed   WindSpeed9am   WindSpeed3pm  \\\n",
              "count  75625.000000  135197.000000  143693.000000  142398.000000   \n",
              "mean       7.611178      40.035230      14.043426      18.662657   \n",
              "std        3.785483      13.607062       8.915375       8.809800   \n",
              "min        0.000000       6.000000       0.000000       0.000000   \n",
              "25%        4.800000      31.000000       7.000000      13.000000   \n",
              "50%        8.400000      39.000000      13.000000      19.000000   \n",
              "75%       10.600000      48.000000      19.000000      24.000000   \n",
              "max       14.500000     135.000000     130.000000      87.000000   \n",
              "\n",
              "         Humidity9am    Humidity3pm   Pressure9am    Pressure3pm  \\\n",
              "count  142806.000000  140953.000000  130395.00000  130432.000000   \n",
              "mean       68.880831      51.539116    1017.64994    1015.255889   \n",
              "std        19.029164      20.795902       7.10653       7.037414   \n",
              "min         0.000000       0.000000     980.50000     977.100000   \n",
              "25%        57.000000      37.000000    1012.90000    1010.400000   \n",
              "50%        70.000000      52.000000    1017.60000    1015.200000   \n",
              "75%        83.000000      66.000000    1022.40000    1020.000000   \n",
              "max       100.000000     100.000000    1041.00000    1039.600000   \n",
              "\n",
              "           Cloud9am      Cloud3pm        Temp9am       Temp3pm  \n",
              "count  89572.000000  86102.000000  143693.000000  141851.00000  \n",
              "mean       4.447461      4.509930      16.990631      21.68339  \n",
              "std        2.887159      2.720357       6.488753       6.93665  \n",
              "min        0.000000      0.000000      -7.200000      -5.40000  \n",
              "25%        1.000000      2.000000      12.300000      16.60000  \n",
              "50%        5.000000      5.000000      16.700000      21.10000  \n",
              "75%        7.000000      7.000000      21.600000      26.40000  \n",
              "max        9.000000      9.000000      40.200000      46.70000  "
            ]
          },
          "execution_count": 6,
          "metadata": {},
          "output_type": "execute_result"
        }
      ],
      "source": [
        "#melihat penjelasan numeric data secara singkat\n",
        "df.describe()"
      ]
    },
    {
      "cell_type": "code",
      "execution_count": 7,
      "metadata": {
        "id": "uPkHZXaiAONV"
      },
      "outputs": [],
      "source": [
        "df.columns = df.columns.str.lower() #merubah semua kolom menjadi lowercase"
      ]
    },
    {
      "cell_type": "markdown",
      "metadata": {
        "id": "2gEXXgrvAONW"
      },
      "source": [
        "# 4. EDA"
      ]
    },
    {
      "cell_type": "code",
      "execution_count": 8,
      "metadata": {
        "id": "eVvYomQYAONX"
      },
      "outputs": [],
      "source": [
        "#merubah format kolom 'date' dari object menjadi datetime\n",
        "df['date'] = pd.to_datetime(df['date'], format='%Y-%m-%d')\n",
        "\n",
        "#merubah kolom raintomorrow menjadi int (1 untuk hujan dan  0 untuk tidak hujan)\n",
        "#hal ini perlu dilakukan agar model dapat dilatih & melihat korelasi dari feature yang ada pada dataset\n",
        "df['raintomorrow'] = (df['raintomorrow'] == 'Yes').astype(int)\n",
        "df['raintoday'] = (df['raintoday'] == 'Yes').astype(int)\n",
        "\n",
        "#melakukan compose pada kolom date menjadi kolom hari dan bulan\n",
        "df['day'] = df['date'].dt.day\n",
        "df['month'] = df['date'].dt.month\n",
        "df = df.astype({\"month\": str})"
      ]
    },
    {
      "cell_type": "markdown",
      "metadata": {
        "id": "XUhrMS67E3BM"
      },
      "source": [
        "> Hujan = 1 \n",
        "----\n",
        "> Tidak Hujan = 0"
      ]
    },
    {
      "cell_type": "code",
      "execution_count": 9,
      "metadata": {
        "colab": {
          "base_uri": "https://localhost:8080/",
          "height": 356
        },
        "id": "kNYwhcj5E0CW",
        "outputId": "04c8e61a-e6b7-4820-e6d9-ccf089faacbe"
      },
      "outputs": [
        {
          "data": {
            "text/html": [
              "\n",
              "  <div id=\"df-032ef67a-6312-479d-8942-b205af919af0\">\n",
              "    <div class=\"colab-df-container\">\n",
              "      <div>\n",
              "<style scoped>\n",
              "    .dataframe tbody tr th:only-of-type {\n",
              "        vertical-align: middle;\n",
              "    }\n",
              "\n",
              "    .dataframe tbody tr th {\n",
              "        vertical-align: top;\n",
              "    }\n",
              "\n",
              "    .dataframe thead th {\n",
              "        text-align: right;\n",
              "    }\n",
              "</style>\n",
              "<table border=\"1\" class=\"dataframe\">\n",
              "  <thead>\n",
              "    <tr style=\"text-align: right;\">\n",
              "      <th></th>\n",
              "      <th>date</th>\n",
              "      <th>location</th>\n",
              "      <th>mintemp</th>\n",
              "      <th>maxtemp</th>\n",
              "      <th>rainfall</th>\n",
              "      <th>evaporation</th>\n",
              "      <th>sunshine</th>\n",
              "      <th>windgustdir</th>\n",
              "      <th>windgustspeed</th>\n",
              "      <th>winddir9am</th>\n",
              "      <th>winddir3pm</th>\n",
              "      <th>windspeed9am</th>\n",
              "      <th>windspeed3pm</th>\n",
              "      <th>humidity9am</th>\n",
              "      <th>humidity3pm</th>\n",
              "      <th>pressure9am</th>\n",
              "      <th>pressure3pm</th>\n",
              "      <th>cloud9am</th>\n",
              "      <th>cloud3pm</th>\n",
              "      <th>temp9am</th>\n",
              "      <th>temp3pm</th>\n",
              "      <th>raintoday</th>\n",
              "      <th>raintomorrow</th>\n",
              "      <th>day</th>\n",
              "      <th>month</th>\n",
              "    </tr>\n",
              "  </thead>\n",
              "  <tbody>\n",
              "    <tr>\n",
              "      <th>0</th>\n",
              "      <td>2008-12-01</td>\n",
              "      <td>Albury</td>\n",
              "      <td>13.4</td>\n",
              "      <td>22.9</td>\n",
              "      <td>0.6</td>\n",
              "      <td>NaN</td>\n",
              "      <td>NaN</td>\n",
              "      <td>W</td>\n",
              "      <td>44.0</td>\n",
              "      <td>W</td>\n",
              "      <td>WNW</td>\n",
              "      <td>20.0</td>\n",
              "      <td>24.0</td>\n",
              "      <td>71.0</td>\n",
              "      <td>22.0</td>\n",
              "      <td>1007.7</td>\n",
              "      <td>1007.1</td>\n",
              "      <td>8.0</td>\n",
              "      <td>NaN</td>\n",
              "      <td>16.9</td>\n",
              "      <td>21.8</td>\n",
              "      <td>0</td>\n",
              "      <td>0</td>\n",
              "      <td>1</td>\n",
              "      <td>12</td>\n",
              "    </tr>\n",
              "    <tr>\n",
              "      <th>1</th>\n",
              "      <td>2008-12-02</td>\n",
              "      <td>Albury</td>\n",
              "      <td>7.4</td>\n",
              "      <td>25.1</td>\n",
              "      <td>0.0</td>\n",
              "      <td>NaN</td>\n",
              "      <td>NaN</td>\n",
              "      <td>WNW</td>\n",
              "      <td>44.0</td>\n",
              "      <td>NNW</td>\n",
              "      <td>WSW</td>\n",
              "      <td>4.0</td>\n",
              "      <td>22.0</td>\n",
              "      <td>44.0</td>\n",
              "      <td>25.0</td>\n",
              "      <td>1010.6</td>\n",
              "      <td>1007.8</td>\n",
              "      <td>NaN</td>\n",
              "      <td>NaN</td>\n",
              "      <td>17.2</td>\n",
              "      <td>24.3</td>\n",
              "      <td>0</td>\n",
              "      <td>0</td>\n",
              "      <td>2</td>\n",
              "      <td>12</td>\n",
              "    </tr>\n",
              "    <tr>\n",
              "      <th>2</th>\n",
              "      <td>2008-12-03</td>\n",
              "      <td>Albury</td>\n",
              "      <td>12.9</td>\n",
              "      <td>25.7</td>\n",
              "      <td>0.0</td>\n",
              "      <td>NaN</td>\n",
              "      <td>NaN</td>\n",
              "      <td>WSW</td>\n",
              "      <td>46.0</td>\n",
              "      <td>W</td>\n",
              "      <td>WSW</td>\n",
              "      <td>19.0</td>\n",
              "      <td>26.0</td>\n",
              "      <td>38.0</td>\n",
              "      <td>30.0</td>\n",
              "      <td>1007.6</td>\n",
              "      <td>1008.7</td>\n",
              "      <td>NaN</td>\n",
              "      <td>2.0</td>\n",
              "      <td>21.0</td>\n",
              "      <td>23.2</td>\n",
              "      <td>0</td>\n",
              "      <td>0</td>\n",
              "      <td>3</td>\n",
              "      <td>12</td>\n",
              "    </tr>\n",
              "    <tr>\n",
              "      <th>3</th>\n",
              "      <td>2008-12-04</td>\n",
              "      <td>Albury</td>\n",
              "      <td>9.2</td>\n",
              "      <td>28.0</td>\n",
              "      <td>0.0</td>\n",
              "      <td>NaN</td>\n",
              "      <td>NaN</td>\n",
              "      <td>NE</td>\n",
              "      <td>24.0</td>\n",
              "      <td>SE</td>\n",
              "      <td>E</td>\n",
              "      <td>11.0</td>\n",
              "      <td>9.0</td>\n",
              "      <td>45.0</td>\n",
              "      <td>16.0</td>\n",
              "      <td>1017.6</td>\n",
              "      <td>1012.8</td>\n",
              "      <td>NaN</td>\n",
              "      <td>NaN</td>\n",
              "      <td>18.1</td>\n",
              "      <td>26.5</td>\n",
              "      <td>0</td>\n",
              "      <td>0</td>\n",
              "      <td>4</td>\n",
              "      <td>12</td>\n",
              "    </tr>\n",
              "    <tr>\n",
              "      <th>4</th>\n",
              "      <td>2008-12-05</td>\n",
              "      <td>Albury</td>\n",
              "      <td>17.5</td>\n",
              "      <td>32.3</td>\n",
              "      <td>1.0</td>\n",
              "      <td>NaN</td>\n",
              "      <td>NaN</td>\n",
              "      <td>W</td>\n",
              "      <td>41.0</td>\n",
              "      <td>ENE</td>\n",
              "      <td>NW</td>\n",
              "      <td>7.0</td>\n",
              "      <td>20.0</td>\n",
              "      <td>82.0</td>\n",
              "      <td>33.0</td>\n",
              "      <td>1010.8</td>\n",
              "      <td>1006.0</td>\n",
              "      <td>7.0</td>\n",
              "      <td>8.0</td>\n",
              "      <td>17.8</td>\n",
              "      <td>29.7</td>\n",
              "      <td>0</td>\n",
              "      <td>0</td>\n",
              "      <td>5</td>\n",
              "      <td>12</td>\n",
              "    </tr>\n",
              "  </tbody>\n",
              "</table>\n",
              "</div>\n",
              "      <button class=\"colab-df-convert\" onclick=\"convertToInteractive('df-032ef67a-6312-479d-8942-b205af919af0')\"\n",
              "              title=\"Convert this dataframe to an interactive table.\"\n",
              "              style=\"display:none;\">\n",
              "        \n",
              "  <svg xmlns=\"http://www.w3.org/2000/svg\" height=\"24px\"viewBox=\"0 0 24 24\"\n",
              "       width=\"24px\">\n",
              "    <path d=\"M0 0h24v24H0V0z\" fill=\"none\"/>\n",
              "    <path d=\"M18.56 5.44l.94 2.06.94-2.06 2.06-.94-2.06-.94-.94-2.06-.94 2.06-2.06.94zm-11 1L8.5 8.5l.94-2.06 2.06-.94-2.06-.94L8.5 2.5l-.94 2.06-2.06.94zm10 10l.94 2.06.94-2.06 2.06-.94-2.06-.94-.94-2.06-.94 2.06-2.06.94z\"/><path d=\"M17.41 7.96l-1.37-1.37c-.4-.4-.92-.59-1.43-.59-.52 0-1.04.2-1.43.59L10.3 9.45l-7.72 7.72c-.78.78-.78 2.05 0 2.83L4 21.41c.39.39.9.59 1.41.59.51 0 1.02-.2 1.41-.59l7.78-7.78 2.81-2.81c.8-.78.8-2.07 0-2.86zM5.41 20L4 18.59l7.72-7.72 1.47 1.35L5.41 20z\"/>\n",
              "  </svg>\n",
              "      </button>\n",
              "      \n",
              "  <style>\n",
              "    .colab-df-container {\n",
              "      display:flex;\n",
              "      flex-wrap:wrap;\n",
              "      gap: 12px;\n",
              "    }\n",
              "\n",
              "    .colab-df-convert {\n",
              "      background-color: #E8F0FE;\n",
              "      border: none;\n",
              "      border-radius: 50%;\n",
              "      cursor: pointer;\n",
              "      display: none;\n",
              "      fill: #1967D2;\n",
              "      height: 32px;\n",
              "      padding: 0 0 0 0;\n",
              "      width: 32px;\n",
              "    }\n",
              "\n",
              "    .colab-df-convert:hover {\n",
              "      background-color: #E2EBFA;\n",
              "      box-shadow: 0px 1px 2px rgba(60, 64, 67, 0.3), 0px 1px 3px 1px rgba(60, 64, 67, 0.15);\n",
              "      fill: #174EA6;\n",
              "    }\n",
              "\n",
              "    [theme=dark] .colab-df-convert {\n",
              "      background-color: #3B4455;\n",
              "      fill: #D2E3FC;\n",
              "    }\n",
              "\n",
              "    [theme=dark] .colab-df-convert:hover {\n",
              "      background-color: #434B5C;\n",
              "      box-shadow: 0px 1px 3px 1px rgba(0, 0, 0, 0.15);\n",
              "      filter: drop-shadow(0px 1px 2px rgba(0, 0, 0, 0.3));\n",
              "      fill: #FFFFFF;\n",
              "    }\n",
              "  </style>\n",
              "\n",
              "      <script>\n",
              "        const buttonEl =\n",
              "          document.querySelector('#df-032ef67a-6312-479d-8942-b205af919af0 button.colab-df-convert');\n",
              "        buttonEl.style.display =\n",
              "          google.colab.kernel.accessAllowed ? 'block' : 'none';\n",
              "\n",
              "        async function convertToInteractive(key) {\n",
              "          const element = document.querySelector('#df-032ef67a-6312-479d-8942-b205af919af0');\n",
              "          const dataTable =\n",
              "            await google.colab.kernel.invokeFunction('convertToInteractive',\n",
              "                                                     [key], {});\n",
              "          if (!dataTable) return;\n",
              "\n",
              "          const docLinkHtml = 'Like what you see? Visit the ' +\n",
              "            '<a target=\"_blank\" href=https://colab.research.google.com/notebooks/data_table.ipynb>data table notebook</a>'\n",
              "            + ' to learn more about interactive tables.';\n",
              "          element.innerHTML = '';\n",
              "          dataTable['output_type'] = 'display_data';\n",
              "          await google.colab.output.renderOutput(dataTable, element);\n",
              "          const docLink = document.createElement('div');\n",
              "          docLink.innerHTML = docLinkHtml;\n",
              "          element.appendChild(docLink);\n",
              "        }\n",
              "      </script>\n",
              "    </div>\n",
              "  </div>\n",
              "  "
            ],
            "text/plain": [
              "        date location  mintemp  maxtemp  rainfall  evaporation  sunshine  \\\n",
              "0 2008-12-01   Albury     13.4     22.9       0.6          NaN       NaN   \n",
              "1 2008-12-02   Albury      7.4     25.1       0.0          NaN       NaN   \n",
              "2 2008-12-03   Albury     12.9     25.7       0.0          NaN       NaN   \n",
              "3 2008-12-04   Albury      9.2     28.0       0.0          NaN       NaN   \n",
              "4 2008-12-05   Albury     17.5     32.3       1.0          NaN       NaN   \n",
              "\n",
              "  windgustdir  windgustspeed winddir9am winddir3pm  windspeed9am  \\\n",
              "0           W           44.0          W        WNW          20.0   \n",
              "1         WNW           44.0        NNW        WSW           4.0   \n",
              "2         WSW           46.0          W        WSW          19.0   \n",
              "3          NE           24.0         SE          E          11.0   \n",
              "4           W           41.0        ENE         NW           7.0   \n",
              "\n",
              "   windspeed3pm  humidity9am  humidity3pm  pressure9am  pressure3pm  cloud9am  \\\n",
              "0          24.0         71.0         22.0       1007.7       1007.1       8.0   \n",
              "1          22.0         44.0         25.0       1010.6       1007.8       NaN   \n",
              "2          26.0         38.0         30.0       1007.6       1008.7       NaN   \n",
              "3           9.0         45.0         16.0       1017.6       1012.8       NaN   \n",
              "4          20.0         82.0         33.0       1010.8       1006.0       7.0   \n",
              "\n",
              "   cloud3pm  temp9am  temp3pm  raintoday  raintomorrow  day month  \n",
              "0       NaN     16.9     21.8          0             0    1    12  \n",
              "1       NaN     17.2     24.3          0             0    2    12  \n",
              "2       2.0     21.0     23.2          0             0    3    12  \n",
              "3       NaN     18.1     26.5          0             0    4    12  \n",
              "4       8.0     17.8     29.7          0             0    5    12  "
            ]
          },
          "execution_count": 9,
          "metadata": {},
          "output_type": "execute_result"
        }
      ],
      "source": [
        "df.head()"
      ]
    },
    {
      "cell_type": "code",
      "execution_count": 10,
      "metadata": {
        "colab": {
          "base_uri": "https://localhost:8080/",
          "height": 331
        },
        "id": "-mS5iYCBAONY",
        "outputId": "9b822795-f8d6-4f59-dc9a-3f80b65e21d7"
      },
      "outputs": [
        {
          "data": {
            "image/png": "[encoded data removed]",
            "text/plain": [
              "<Figure size 432x288 with 1 Axes>"
            ]
          },
          "metadata": {
            "needs_background": "light"
          },
          "output_type": "display_data"
        }
      ],
      "source": [
        "#visualisasi missing value\n",
        "df.isnull().sum().plot.bar()\n",
        "plt.show()\n"
      ]
    },
    {
      "cell_type": "code",
      "execution_count": 11,
      "metadata": {
        "colab": {
          "base_uri": "https://localhost:8080/",
          "height": 144
        },
        "id": "62OVuhuQAONh",
        "outputId": "6dbc1bf1-ec74-487f-ef54-05b089291593"
      },
      "outputs": [
        {
          "data": {
            "text/html": [
              "\n",
              "  <div id=\"df-9576c294-78ee-4d97-8011-180cbc566bb6\">\n",
              "    <div class=\"colab-df-container\">\n",
              "      <div>\n",
              "<style scoped>\n",
              "    .dataframe tbody tr th:only-of-type {\n",
              "        vertical-align: middle;\n",
              "    }\n",
              "\n",
              "    .dataframe tbody tr th {\n",
              "        vertical-align: top;\n",
              "    }\n",
              "\n",
              "    .dataframe thead th {\n",
              "        text-align: right;\n",
              "    }\n",
              "</style>\n",
              "<table border=\"1\" class=\"dataframe\">\n",
              "  <thead>\n",
              "    <tr style=\"text-align: right;\">\n",
              "      <th></th>\n",
              "      <th>date</th>\n",
              "      <th>location</th>\n",
              "      <th>mintemp</th>\n",
              "      <th>maxtemp</th>\n",
              "      <th>rainfall</th>\n",
              "      <th>evaporation</th>\n",
              "      <th>sunshine</th>\n",
              "      <th>windgustdir</th>\n",
              "      <th>windgustspeed</th>\n",
              "      <th>winddir9am</th>\n",
              "      <th>winddir3pm</th>\n",
              "      <th>windspeed9am</th>\n",
              "      <th>windspeed3pm</th>\n",
              "      <th>humidity9am</th>\n",
              "      <th>humidity3pm</th>\n",
              "      <th>pressure9am</th>\n",
              "      <th>pressure3pm</th>\n",
              "      <th>cloud9am</th>\n",
              "      <th>cloud3pm</th>\n",
              "      <th>temp9am</th>\n",
              "      <th>temp3pm</th>\n",
              "      <th>raintoday</th>\n",
              "      <th>raintomorrow</th>\n",
              "      <th>day</th>\n",
              "      <th>month</th>\n",
              "    </tr>\n",
              "  </thead>\n",
              "  <tbody>\n",
              "    <tr>\n",
              "      <th>missingvalue</th>\n",
              "      <td>0</td>\n",
              "      <td>0</td>\n",
              "      <td>1485</td>\n",
              "      <td>1261</td>\n",
              "      <td>3261</td>\n",
              "      <td>62790</td>\n",
              "      <td>69835</td>\n",
              "      <td>10326</td>\n",
              "      <td>10263</td>\n",
              "      <td>10566</td>\n",
              "      <td>4228</td>\n",
              "      <td>1767</td>\n",
              "      <td>3062</td>\n",
              "      <td>2654</td>\n",
              "      <td>4507</td>\n",
              "      <td>15065</td>\n",
              "      <td>15028</td>\n",
              "      <td>55888</td>\n",
              "      <td>59358</td>\n",
              "      <td>1767</td>\n",
              "      <td>3609</td>\n",
              "      <td>0</td>\n",
              "      <td>0</td>\n",
              "      <td>0</td>\n",
              "      <td>0</td>\n",
              "    </tr>\n",
              "  </tbody>\n",
              "</table>\n",
              "</div>\n",
              "      <button class=\"colab-df-convert\" onclick=\"convertToInteractive('df-9576c294-78ee-4d97-8011-180cbc566bb6')\"\n",
              "              title=\"Convert this dataframe to an interactive table.\"\n",
              "              style=\"display:none;\">\n",
              "        \n",
              "  <svg xmlns=\"http://www.w3.org/2000/svg\" height=\"24px\"viewBox=\"0 0 24 24\"\n",
              "       width=\"24px\">\n",
              "    <path d=\"M0 0h24v24H0V0z\" fill=\"none\"/>\n",
              "    <path d=\"M18.56 5.44l.94 2.06.94-2.06 2.06-.94-2.06-.94-.94-2.06-.94 2.06-2.06.94zm-11 1L8.5 8.5l.94-2.06 2.06-.94-2.06-.94L8.5 2.5l-.94 2.06-2.06.94zm10 10l.94 2.06.94-2.06 2.06-.94-2.06-.94-.94-2.06-.94 2.06-2.06.94z\"/><path d=\"M17.41 7.96l-1.37-1.37c-.4-.4-.92-.59-1.43-.59-.52 0-1.04.2-1.43.59L10.3 9.45l-7.72 7.72c-.78.78-.78 2.05 0 2.83L4 21.41c.39.39.9.59 1.41.59.51 0 1.02-.2 1.41-.59l7.78-7.78 2.81-2.81c.8-.78.8-2.07 0-2.86zM5.41 20L4 18.59l7.72-7.72 1.47 1.35L5.41 20z\"/>\n",
              "  </svg>\n",
              "      </button>\n",
              "      \n",
              "  <style>\n",
              "    .colab-df-container {\n",
              "      display:flex;\n",
              "      flex-wrap:wrap;\n",
              "      gap: 12px;\n",
              "    }\n",
              "\n",
              "    .colab-df-convert {\n",
              "      background-color: #E8F0FE;\n",
              "      border: none;\n",
              "      border-radius: 50%;\n",
              "      cursor: pointer;\n",
              "      display: none;\n",
              "      fill: #1967D2;\n",
              "      height: 32px;\n",
              "      padding: 0 0 0 0;\n",
              "      width: 32px;\n",
              "    }\n",
              "\n",
              "    .colab-df-convert:hover {\n",
              "      background-color: #E2EBFA;\n",
              "      box-shadow: 0px 1px 2px rgba(60, 64, 67, 0.3), 0px 1px 3px 1px rgba(60, 64, 67, 0.15);\n",
              "      fill: #174EA6;\n",
              "    }\n",
              "\n",
              "    [theme=dark] .colab-df-convert {\n",
              "      background-color: #3B4455;\n",
              "      fill: #D2E3FC;\n",
              "    }\n",
              "\n",
              "    [theme=dark] .colab-df-convert:hover {\n",
              "      background-color: #434B5C;\n",
              "      box-shadow: 0px 1px 3px 1px rgba(0, 0, 0, 0.15);\n",
              "      filter: drop-shadow(0px 1px 2px rgba(0, 0, 0, 0.3));\n",
              "      fill: #FFFFFF;\n",
              "    }\n",
              "  </style>\n",
              "\n",
              "      <script>\n",
              "        const buttonEl =\n",
              "          document.querySelector('#df-9576c294-78ee-4d97-8011-180cbc566bb6 button.colab-df-convert');\n",
              "        buttonEl.style.display =\n",
              "          google.colab.kernel.accessAllowed ? 'block' : 'none';\n",
              "\n",
              "        async function convertToInteractive(key) {\n",
              "          const element = document.querySelector('#df-9576c294-78ee-4d97-8011-180cbc566bb6');\n",
              "          const dataTable =\n",
              "            await google.colab.kernel.invokeFunction('convertToInteractive',\n",
              "                                                     [key], {});\n",
              "          if (!dataTable) return;\n",
              "\n",
              "          const docLinkHtml = 'Like what you see? Visit the ' +\n",
              "            '<a target=\"_blank\" href=https://colab.research.google.com/notebooks/data_table.ipynb>data table notebook</a>'\n",
              "            + ' to learn more about interactive tables.';\n",
              "          element.innerHTML = '';\n",
              "          dataTable['output_type'] = 'display_data';\n",
              "          await google.colab.output.renderOutput(dataTable, element);\n",
              "          const docLink = document.createElement('div');\n",
              "          docLink.innerHTML = docLinkHtml;\n",
              "          element.appendChild(docLink);\n",
              "        }\n",
              "      </script>\n",
              "    </div>\n",
              "  </div>\n",
              "  "
            ],
            "text/plain": [
              "              date  location  mintemp  maxtemp  rainfall  evaporation  \\\n",
              "missingvalue     0         0     1485     1261      3261        62790   \n",
              "\n",
              "              sunshine  windgustdir  windgustspeed  winddir9am  winddir3pm  \\\n",
              "missingvalue     69835        10326          10263       10566        4228   \n",
              "\n",
              "              windspeed9am  windspeed3pm  humidity9am  humidity3pm  \\\n",
              "missingvalue          1767          3062         2654         4507   \n",
              "\n",
              "              pressure9am  pressure3pm  cloud9am  cloud3pm  temp9am  temp3pm  \\\n",
              "missingvalue        15065        15028     55888     59358     1767     3609   \n",
              "\n",
              "              raintoday  raintomorrow  day  month  \n",
              "missingvalue          0             0    0      0  "
            ]
          },
          "execution_count": 11,
          "metadata": {},
          "output_type": "execute_result"
        }
      ],
      "source": [
        "pd.DataFrame({'missingvalue': df.isnull().sum()}).T\n"
      ]
    },
    {
      "cell_type": "markdown",
      "metadata": {
        "id": "6J-Vawe-gaqJ"
      },
      "source": [
        "> Missing value terbanyak berada pada kolom sunshine (69.835 data), evaporasi (52.790 data), cloud3pm (59.358 data), dan cloud9am(55.888 data)"
      ]
    },
    {
      "cell_type": "code",
      "execution_count": 12,
      "metadata": {
        "colab": {
          "base_uri": "https://localhost:8080/"
        },
        "id": "3QDC6AOMAONm",
        "outputId": "b6bc0277-e32e-401b-ffc0-deefe24a8bfb"
      },
      "outputs": [
        {
          "name": "stdout",
          "output_type": "stream",
          "text": [
            "\n",
            "jumlah hujan besok\n",
            " 0    113583\n",
            "1     31877\n",
            "Name: raintomorrow, dtype: int64\n"
          ]
        }
      ],
      "source": [
        "#menghitung jumlah data prediksi hujan besok\n",
        "print('\\njumlah hujan besok\\n', df[\"raintomorrow\"].value_counts())\n"
      ]
    },
    {
      "cell_type": "markdown",
      "metadata": {
        "id": "K09pAYMjhA1Z"
      },
      "source": [
        "> Data antara hujan dan tidak hujan tidak imbang, lebih banyak prediksi mengatakan tidak hujan"
      ]
    },
    {
      "cell_type": "markdown",
      "metadata": {
        "id": "9ZJni9-nizoy"
      },
      "source": [
        "## Korelasi Feature Dengan Label"
      ]
    },
    {
      "cell_type": "code",
      "execution_count": 13,
      "metadata": {
        "colab": {
          "base_uri": "https://localhost:8080/",
          "height": 642
        },
        "id": "JqpmZVQ5AONn",
        "outputId": "d26eb1b4-c237-4990-fe05-9ba6de537e52"
      },
      "outputs": [
        {
          "data": {
            "image/png": "[encoded data removed]",
            "text/plain": [
              "<Figure size 1080x720 with 1 Axes>"
            ]
          },
          "metadata": {
            "needs_background": "light"
          },
          "output_type": "display_data"
        }
      ],
      "source": [
        "plt.subplots(figsize=(15, 10))\n",
        "_corr = df.corr()\n",
        "plt.bar(_corr.columns, df.corr()['raintomorrow'])\n",
        "plt.xticks(rotation=45)\n",
        "plt.grid()\n"
      ]
    },
    {
      "cell_type": "markdown",
      "metadata": {
        "id": "b4pPU5rcAONn"
      },
      "source": [
        "Berdasarkan histogram korelasi tersebut, kolom yang mempengaruhi prediksi raintomorrow adalah data yang histogramnya tinggi (baik nilainya positif maupun negatif). Bisa dibilang nyaris semua kolom berkorelasi kecuali day, month, dan cloud3pm. Namun hal itu perlu diteliti lebih jauh"
      ]
    },
    {
      "cell_type": "markdown",
      "metadata": {
        "id": "5VL2rRIWi4T5"
      },
      "source": [
        "## Korelasi Antar Feature"
      ]
    },
    {
      "cell_type": "code",
      "execution_count": 14,
      "metadata": {
        "colab": {
          "base_uri": "https://localhost:8080/",
          "height": 680
        },
        "id": "CRImBPFmAONo",
        "outputId": "c25d24f7-4ffb-425b-f1e0-5bb41deb6f0e"
      },
      "outputs": [
        {
          "data": {
            "text/plain": [
              "<matplotlib.axes._subplots.AxesSubplot at 0x7f1b493a3a50>"
            ]
          },
          "execution_count": 14,
          "metadata": {},
          "output_type": "execute_result"
        },
        {
          "data": {
            "image/png": "[encoded data removed]",
            "text/plain": [
              "<Figure size 1080x720 with 2 Axes>"
            ]
          },
          "metadata": {
            "needs_background": "light"
          },
          "output_type": "display_data"
        }
      ],
      "source": [
        "#melihat korelasi numeric antar feature\n",
        "plt.subplots(figsize=(15, 10))\n",
        "sns.heatmap(df.corr().abs())\n"
      ]
    },
    {
      "cell_type": "markdown",
      "metadata": {
        "id": "r_yAZDkNAONp"
      },
      "source": [
        "Berdasarkan heatmap, kolom2 yang memiliki korelasi tinggi antar feature adalah : \n",
        "- mintemp korelatif dengan temp9am, temp3pm\n",
        "- setiap kolom cuaca jam 9 berkorelasi dengan jam 3 siang\n",
        "- windgustspeed korelatif dengan windspeed 9am dan wndspeed 3pm\n",
        "- kolom pressure 9am dan 3pm memiliki tingkat korelasi yang sangat tinggi\n",
        "Berarti semakin antar kolom berkorelasi, maka mereka menampilkan informasi yang sama. Pressure pukul 9pagi dengan 3sore menampilkan informasi yang sama.\n",
        "\n",
        "Kolom yang tidak memiliki korelasi 1 sama lain : sunshine, evaporation"
      ]
    },
    {
      "cell_type": "markdown",
      "metadata": {
        "id": "TTtnvyhMiY-n"
      },
      "source": [
        "## Korelasi Bulan (kalender) Dengan Prediksi Hujan"
      ]
    },
    {
      "cell_type": "code",
      "execution_count": 15,
      "metadata": {
        "colab": {
          "base_uri": "https://localhost:8080/",
          "height": 553
        },
        "id": "i_38btn3AONq",
        "outputId": "0c210e58-5a1a-4405-8963-ecdfa1775812"
      },
      "outputs": [
        {
          "data": {
            "image/png": "[encoded data removed]",
            "text/plain": [
              "<Figure size 1080x648 with 1 Axes>"
            ]
          },
          "metadata": {
            "needs_background": "light"
          },
          "output_type": "display_data"
        }
      ],
      "source": [
        "plt.figure(figsize=(15,9))\n",
        "plt.hist(df[df['raintomorrow'] == 1].month,\n",
        "         histtype='step', label='Hujan', density=True)\n",
        "plt.hist(df[df['raintomorrow'] == 0].month,\n",
        "         histtype='step', label='Tidak Hujan', density=True)\n",
        "plt.title('Distribusi Hujan berdasarkan bulan')\n",
        "plt.legend()\n",
        "plt.grid()\n"
      ]
    },
    {
      "cell_type": "markdown",
      "metadata": {
        "id": "iFv_4Vr9j2j-"
      },
      "source": [
        "> Dilihat dari plotnya, bulan 5 - 8 memiliki kemungkinan hujan lebih tinggi. Hal ini merupakan hal yang masuk akal karena ada beberapa musim di Australia. Dan musim pada bulan 5-8 adalah musim dengan kemungkinan hujan yang tinggi"
      ]
    },
    {
      "cell_type": "markdown",
      "metadata": {
        "id": "w30lhWeKjGLA"
      },
      "source": [
        "## Korelasi Arah Mata Angin Dengan Prediksi Hujan"
      ]
    },
    {
      "cell_type": "code",
      "execution_count": 16,
      "metadata": {
        "colab": {
          "base_uri": "https://localhost:8080/",
          "height": 517
        },
        "id": "xejueJJuAONr",
        "outputId": "e057ca4b-1ab5-4ea2-a314-93a8acca62e7"
      },
      "outputs": [
        {
          "data": {
            "text/plain": [
              "Text(0.5, 1.0, 'Distribusi Hujan berdasarkan arah mata angin')"
            ]
          },
          "execution_count": 16,
          "metadata": {},
          "output_type": "execute_result"
        },
        {
          "data": {
            "image/png": "[encoded data removed]",
            "text/plain": [
              "<Figure size 1080x576 with 1 Axes>"
            ]
          },
          "metadata": {
            "needs_background": "light"
          },
          "output_type": "display_data"
        }
      ],
      "source": [
        "_df = df.dropna() #data missing value di drop agar dapat melihat plot histogram\n",
        "plt.figure(figsize=(15,8))\n",
        "plt.hist(_df[_df['raintomorrow'] == 1].windgustdir,\n",
        "         histtype='step', label='Rain', density=True)\n",
        "plt.hist(_df[_df['raintomorrow'] == 0].windgustdir,\n",
        "         histtype='step', label='Not Rain', density=True)\n",
        "plt.legend()\n",
        "plt.grid()\n",
        "plt.title('Distribusi Hujan berdasarkan arah mata angin')\n"
      ]
    },
    {
      "cell_type": "markdown",
      "metadata": {
        "id": "74YOJhzFjOlh"
      },
      "source": [
        "> Berdasarkan histogram tersebut dapat kita lihat bahwa ada beberapa arah mata angin yang prediksi hujan nya lebih tinggi seperti NNE, WNW,WSW, N, NNW, dan W"
      ]
    },
    {
      "cell_type": "markdown",
      "metadata": {
        "id": "k9pLkSeHjUsp"
      },
      "source": [
        "## Korelasi Hujan Hari Ini Dengan Prediksi Hujan Besok"
      ]
    },
    {
      "cell_type": "code",
      "execution_count": 17,
      "metadata": {
        "colab": {
          "base_uri": "https://localhost:8080/",
          "height": 531
        },
        "id": "xDzF349pjCAB",
        "outputId": "f3912fc4-e9f5-41f2-dba1-f29e49958516"
      },
      "outputs": [
        {
          "data": {
            "text/plain": [
              "Text(0.5, 1.0, 'Distribusi Hujan berdasarkan arah mata angin')"
            ]
          },
          "execution_count": 17,
          "metadata": {},
          "output_type": "execute_result"
        },
        {
          "data": {
            "image/png": "[encoded data removed]",
            "text/plain": [
              "<Figure size 1080x576 with 1 Axes>"
            ]
          },
          "metadata": {
            "needs_background": "light"
          },
          "output_type": "display_data"
        }
      ],
      "source": [
        "plt.figure(figsize=(15,8))\n",
        "plt.hist(_df[_df['raintomorrow'] == 1].raintoday,\n",
        "         histtype='step', label='Rain', density=True)\n",
        "plt.hist(_df[_df['raintomorrow'] == 0].raintoday,\n",
        "         histtype='step', label='Not Rain', density=True)\n",
        "plt.xlabel('raintoday')\n",
        "plt.legend()\n",
        "plt.grid()\n",
        "plt.title('Distribusi Hujan berdasarkan arah mata angin')\n"
      ]
    },
    {
      "cell_type": "markdown",
      "metadata": {
        "id": "7shDSKpSjY5a"
      },
      "source": [
        "> Jika hari ini hujan, maka kemungkinan besok akan hujan lebih besar"
      ]
    },
    {
      "cell_type": "markdown",
      "metadata": {
        "id": "4M2393jsjLEf"
      },
      "source": [
        "## Korelasi Temperature Terendah Dengan Prediksi Hujan"
      ]
    },
    {
      "cell_type": "code",
      "execution_count": 18,
      "metadata": {
        "colab": {
          "base_uri": "https://localhost:8080/",
          "height": 517
        },
        "id": "8Pz2NwS4AONs",
        "outputId": "657de009-dfcf-406c-a44d-14fcca12bb54"
      },
      "outputs": [
        {
          "data": {
            "text/plain": [
              "Text(0.5, 1.0, 'Distribusi Hujan Berdasarkan Temperature Minimal')"
            ]
          },
          "execution_count": 18,
          "metadata": {},
          "output_type": "execute_result"
        },
        {
          "data": {
            "image/png": "[encoded data removed]",
            "text/plain": [
              "<Figure size 1080x576 with 1 Axes>"
            ]
          },
          "metadata": {
            "needs_background": "light"
          },
          "output_type": "display_data"
        }
      ],
      "source": [
        "plt.figure(figsize=(15,8))\n",
        "plt.hist(_df[_df['raintomorrow'] == 1].mintemp,\n",
        "         histtype='step', label='Rain', density=True)\n",
        "plt.hist(_df[_df['raintomorrow'] == 0].mintemp,\n",
        "         histtype='step', label='Not Rain', density=True)\n",
        "plt.legend()\n",
        "plt.title('Distribusi Hujan Berdasarkan Temperature Minimal')\n"
      ]
    },
    {
      "cell_type": "markdown",
      "metadata": {
        "id": "m0BqznL6kksw"
      },
      "source": [
        "> Dilihat dari histogramnya, semakin rendah temperature maka kemugnkinan tidak akan turun hujan. Hal itu merupakan hal yang lumrah karena cuacanya sudah dingin (musim dingin). Jika temperaturnya berada pada angka yang tidak rendah maka ada kemugnkinan untuk hujan (pada temperature 20 s/d 25)"
      ]
    },
    {
      "cell_type": "markdown",
      "metadata": {
        "id": "kbTanGz3lF_D"
      },
      "source": [
        "## Korelasi Kecepatan Angin Dengan Hujan"
      ]
    },
    {
      "cell_type": "code",
      "execution_count": 19,
      "metadata": {
        "colab": {
          "base_uri": "https://localhost:8080/",
          "height": 517
        },
        "id": "TYpzNrsTAONt",
        "outputId": "76039c67-25d2-4398-dbb1-303d4c6c7d9d"
      },
      "outputs": [
        {
          "data": {
            "text/plain": [
              "Text(0.5, 1.0, 'Distribusi Hujan Berdasarkan Kecepatan Arah Angin')"
            ]
          },
          "execution_count": 19,
          "metadata": {},
          "output_type": "execute_result"
        },
        {
          "data": {
            "image/png": "[encoded data removed]",
            "text/plain": [
              "<Figure size 1080x576 with 1 Axes>"
            ]
          },
          "metadata": {
            "needs_background": "light"
          },
          "output_type": "display_data"
        }
      ],
      "source": [
        "plt.figure(figsize=(15,8))\n",
        "plt.hist(_df[_df['raintomorrow'] == 1].windgustspeed,\n",
        "         histtype='step', label='Rain', density=True)\n",
        "plt.hist(_df[_df['raintomorrow'] == 0].windgustspeed,\n",
        "         histtype='step', label='Not Rain', density=True)\n",
        "plt.legend()\n",
        "plt.title('Distribusi Hujan Berdasarkan Kecepatan Arah Angin')\n"
      ]
    },
    {
      "cell_type": "markdown",
      "metadata": {
        "id": "LUSQszl8lLAm"
      },
      "source": [
        "> Dilihat dari histogramnya, semakin besar kecepatan angin maka kemungkinan akan hujan."
      ]
    },
    {
      "cell_type": "markdown",
      "metadata": {
        "id": "sLCUOOVslSsN"
      },
      "source": [
        "## Korelasi Sinar Matahari Dengan Hujan"
      ]
    },
    {
      "cell_type": "code",
      "execution_count": 20,
      "metadata": {
        "colab": {
          "base_uri": "https://localhost:8080/",
          "height": 517
        },
        "id": "rZJfuITBAONw",
        "outputId": "33dda3b3-feda-4861-e1ec-6c11cf12a6e8"
      },
      "outputs": [
        {
          "data": {
            "text/plain": [
              "Text(0.5, 1.0, 'Distribusi Hujan Berdasarkan Sinar Matahari')"
            ]
          },
          "execution_count": 20,
          "metadata": {},
          "output_type": "execute_result"
        },
        {
          "data": {
            "image/png": "[encoded data removed]",
            "text/plain": [
              "<Figure size 1080x576 with 1 Axes>"
            ]
          },
          "metadata": {
            "needs_background": "light"
          },
          "output_type": "display_data"
        }
      ],
      "source": [
        "plt.figure(figsize=(15,8))\n",
        "plt.hist(_df[_df['raintomorrow'] == 1].sunshine,\n",
        "         histtype='step', label='Rain', density=True)\n",
        "plt.hist(_df[_df['raintomorrow'] == 0].sunshine,\n",
        "         histtype='step', label='Not Rain', density=True)\n",
        "plt.legend()\n",
        "plt.title('Distribusi Hujan Berdasarkan Sinar Matahari')\n"
      ]
    },
    {
      "cell_type": "markdown",
      "metadata": {
        "id": "YFff1JWXlZ-E"
      },
      "source": [
        "> Dilihat dari histogramnya, semakin tinggi intensitas matahari maka diprediksi tidak akan turun hujan. Artinya, cuacanya cerah."
      ]
    },
    {
      "cell_type": "markdown",
      "metadata": {
        "id": "oXbr_kGFlgs_"
      },
      "source": [
        "## Korelasi Evaporasi Dengan Hujan"
      ]
    },
    {
      "cell_type": "code",
      "execution_count": 21,
      "metadata": {
        "colab": {
          "base_uri": "https://localhost:8080/",
          "height": 517
        },
        "id": "MN5RWdvRAONx",
        "outputId": "239cdae5-9eee-4083-f522-333e5d4c00f5"
      },
      "outputs": [
        {
          "data": {
            "text/plain": [
              "Text(0.5, 1.0, 'Distribusi Hujan Berdasarkan Evaporasi')"
            ]
          },
          "execution_count": 21,
          "metadata": {},
          "output_type": "execute_result"
        },
        {
          "data": {
            "image/png": "[encoded data removed]",
            "text/plain": [
              "<Figure size 1080x576 with 1 Axes>"
            ]
          },
          "metadata": {
            "needs_background": "light"
          },
          "output_type": "display_data"
        }
      ],
      "source": [
        "plt.figure(figsize=(15,8))\n",
        "plt.hist(_df[_df['raintomorrow'] == 1].evaporation,\n",
        "         histtype='step', label='Rain', density=True)\n",
        "plt.hist(_df[_df['raintomorrow'] == 0].evaporation,\n",
        "         histtype='step', label='Not Rain', density=True)\n",
        "plt.legend()\n",
        "plt.title('Distribusi Hujan Berdasarkan Evaporasi')\n"
      ]
    },
    {
      "cell_type": "markdown",
      "metadata": {
        "id": "JlW0VOdTlpMT"
      },
      "source": [
        "> dilihat dari histogramnya, evaporasi yang memungkinkan untuk terjadinya hujan berada pada angka 0-8."
      ]
    },
    {
      "cell_type": "markdown",
      "metadata": {
        "id": "9H3XbjqMmCar"
      },
      "source": [
        "## Korelasi Curah Hujan Dengan Prediksi Hujan"
      ]
    },
    {
      "cell_type": "code",
      "execution_count": 22,
      "metadata": {
        "colab": {
          "base_uri": "https://localhost:8080/",
          "height": 517
        },
        "id": "g6_4qRpeAONx",
        "outputId": "5ccb0a2f-d5dc-447a-b34b-9f71f90cdfed"
      },
      "outputs": [
        {
          "data": {
            "text/plain": [
              "Text(0.5, 1.0, 'Distribusi Hujan Berdasarkan Curah Hujan')"
            ]
          },
          "execution_count": 22,
          "metadata": {},
          "output_type": "execute_result"
        },
        {
          "data": {
            "image/png": "[encoded data removed]",
            "text/plain": [
              "<Figure size 1080x576 with 1 Axes>"
            ]
          },
          "metadata": {
            "needs_background": "light"
          },
          "output_type": "display_data"
        }
      ],
      "source": [
        "plt.figure(figsize=(15,8))\n",
        "plt.hist(_df[_df['raintomorrow'] == 1].rainfall,\n",
        "         histtype='step', label='Rain', density=True)\n",
        "plt.hist(_df[_df['raintomorrow'] == 0].rainfall,\n",
        "         histtype='step', label='Not Rain', density=True)\n",
        "plt.legend()\n",
        "plt.title('Distribusi Hujan Berdasarkan Curah Hujan')\n"
      ]
    },
    {
      "cell_type": "markdown",
      "metadata": {
        "id": "JGpapguImK_I"
      },
      "source": [
        "> Dilihat dari distribusinya, semakin tinggi curah hujan maka kemugnkinan hujan semakin besar"
      ]
    },
    {
      "cell_type": "markdown",
      "metadata": {
        "id": "BKefDn_DAONy"
      },
      "source": [
        "## Cardinality\n",
        "\n",
        "Melakukan cek pada tingkat kardinalitas kolom kategori untuk memaksimalkan model"
      ]
    },
    {
      "cell_type": "code",
      "execution_count": 23,
      "metadata": {
        "colab": {
          "base_uri": "https://localhost:8080/"
        },
        "id": "OycS4Jh-AONy",
        "outputId": "1815240e-0410-4538-ce29-2b2f11ede041"
      },
      "outputs": [
        {
          "name": "stdout",
          "output_type": "stream",
          "text": [
            "<class 'pandas.core.frame.DataFrame'>\n",
            "RangeIndex: 145460 entries, 0 to 145459\n",
            "Data columns (total 25 columns):\n",
            " #   Column         Non-Null Count   Dtype         \n",
            "---  ------         --------------   -----         \n",
            " 0   date           145460 non-null  datetime64[ns]\n",
            " 1   location       145460 non-null  object        \n",
            " 2   mintemp        143975 non-null  float64       \n",
            " 3   maxtemp        144199 non-null  float64       \n",
            " 4   rainfall       142199 non-null  float64       \n",
            " 5   evaporation    82670 non-null   float64       \n",
            " 6   sunshine       75625 non-null   float64       \n",
            " 7   windgustdir    135134 non-null  object        \n",
            " 8   windgustspeed  135197 non-null  float64       \n",
            " 9   winddir9am     134894 non-null  object        \n",
            " 10  winddir3pm     141232 non-null  object        \n",
            " 11  windspeed9am   143693 non-null  float64       \n",
            " 12  windspeed3pm   142398 non-null  float64       \n",
            " 13  humidity9am    142806 non-null  float64       \n",
            " 14  humidity3pm    140953 non-null  float64       \n",
            " 15  pressure9am    130395 non-null  float64       \n",
            " 16  pressure3pm    130432 non-null  float64       \n",
            " 17  cloud9am       89572 non-null   float64       \n",
            " 18  cloud3pm       86102 non-null   float64       \n",
            " 19  temp9am        143693 non-null  float64       \n",
            " 20  temp3pm        141851 non-null  float64       \n",
            " 21  raintoday      145460 non-null  int64         \n",
            " 22  raintomorrow   145460 non-null  int64         \n",
            " 23  day            145460 non-null  int64         \n",
            " 24  month          145460 non-null  object        \n",
            "dtypes: datetime64[ns](1), float64(16), int64(3), object(5)\n",
            "memory usage: 27.7+ MB\n"
          ]
        }
      ],
      "source": [
        "df.info() #deteksi kolom yang tipenya object\n"
      ]
    },
    {
      "cell_type": "code",
      "execution_count": 24,
      "metadata": {
        "colab": {
          "base_uri": "https://localhost:8080/"
        },
        "id": "tnBs-5P-AONz",
        "outputId": "2ad4e9fc-5c05-448d-81dc-f32ef84dd24a"
      },
      "outputs": [
        {
          "name": "stdout",
          "output_type": "stream",
          "text": [
            "jumlah data yang unik pada kolom lokasi adalah :  49\n",
            "jumlah data yang unik pada kolom arah mata angin adalah :  17\n"
          ]
        }
      ],
      "source": [
        "print('jumlah data yang unik pada kolom lokasi adalah : ',\n",
        "      len(df.location.unique()))\n",
        "print('jumlah data yang unik pada kolom arah mata angin adalah : ',\n",
        "      len(df.windgustdir.unique()))\n"
      ]
    },
    {
      "cell_type": "markdown",
      "metadata": {
        "id": "CeM_I3ruAONz"
      },
      "source": [
        "Kolom lokasi memiliki cardinality yang cukup tinggi. Berdasarkan sumber [disini](https://www.britannica.com/place/Australia), tiap2 lokasi bisa diwakilkan dengan arah mata anginnya. Hal tersebut merupakan hal yang masuk akal karena turunnya hujan bergantung pada arah angin. Maka, kolom lokasi `tidak independen` dan bisa diwakilkan oleh arah mata anginnya (windgustdir)"
      ]
    },
    {
      "cell_type": "code",
      "execution_count": 25,
      "metadata": {
        "id": "1cFL083wAONz"
      },
      "outputs": [],
      "source": [
        "df['windgustdir'].replace({'NNE':  'NE', 'ENE': 'NE',\n",
        "                           'SSE': 'SE', 'ESE': 'SE',\n",
        "                           'SSW': 'SW', 'WSW': 'SW',\n",
        "                           'WNW': 'NW', 'NNW': 'NW'\n",
        "                           }, inplace=True)\n",
        "#mengurangi kardinalitas"
      ]
    },
    {
      "cell_type": "markdown",
      "metadata": {
        "id": "2cCIb7WInP5e"
      },
      "source": [
        "> Kardinalitas pada kolom windgustdir dikurangi dengan mengelompokkan arah mata angin menjadi lebih sederhana berdasarkan arah mata angin terdekatnya dan yang lebih lumrah diketahui oleh masyarakat umum. Pengelompokkan ini didasarkan pada 17 arah mata angin [disini](https://www.mdpi.com/applsci/applsci-11-07717/article_deploy/html/images/applsci-11-07717-g003.png). Dari 17 arah mata angin, akan dilakukan pengelompokan menjadi 8 arah mata angin"
      ]
    },
    {
      "cell_type": "code",
      "execution_count": 26,
      "metadata": {
        "colab": {
          "base_uri": "https://localhost:8080/"
        },
        "id": "BO7kQIh8AON0",
        "outputId": "b67c6696-7f65-4a1e-d0c9-4b98e717239e"
      },
      "outputs": [
        {
          "name": "stdout",
          "output_type": "stream",
          "text": [
            "jumlah data yang unik pada kolom arah mata angin adalah :  9\n"
          ]
        }
      ],
      "source": [
        "print('jumlah data yang unik pada kolom arah mata angin adalah : ',\n",
        "      len(df.windgustdir.unique())) #masih terdapat NaN"
      ]
    },
    {
      "cell_type": "code",
      "execution_count": 27,
      "metadata": {
        "colab": {
          "base_uri": "https://localhost:8080/"
        },
        "id": "j44T06U4aTKs",
        "outputId": "748c8289-2191-4bc1-c344-b931e0b271ed"
      },
      "outputs": [
        {
          "data": {
            "text/plain": [
              "array(['W', 'NW', 'SW', 'NE', 'N', nan, 'SE', 'S', 'E'], dtype=object)"
            ]
          },
          "execution_count": 27,
          "metadata": {},
          "output_type": "execute_result"
        }
      ],
      "source": [
        "df.windgustdir.unique()"
      ]
    },
    {
      "cell_type": "markdown",
      "metadata": {
        "id": "m5JmARYvAON0"
      },
      "source": [
        "# 5. Data Prep"
      ]
    },
    {
      "cell_type": "markdown",
      "metadata": {
        "id": "RZ3WtcbWn1hN"
      },
      "source": [
        "## Membuat Data Inference\n",
        "Yaitu data yang dijadikan sample live untuk menguji model"
      ]
    },
    {
      "cell_type": "code",
      "execution_count": 28,
      "metadata": {
        "id": "zPGffAZsAON0"
      },
      "outputs": [],
      "source": [
        "df_inf = df.sample(5, random_state=17) #diambil sebanyak 5 sample\n",
        "df_train_test = df.drop(df_inf.index)\n"
      ]
    },
    {
      "cell_type": "code",
      "execution_count": 29,
      "metadata": {
        "id": "L6Uo8KF8AON0"
      },
      "outputs": [],
      "source": [
        "df_train_test = df_train_test.reset_index(drop=True)\n",
        "df_inf = df_inf.reset_index(drop=True)\n"
      ]
    },
    {
      "cell_type": "code",
      "execution_count": 30,
      "metadata": {
        "id": "WSfqUCYsAON1"
      },
      "outputs": [],
      "source": [
        "df_train_test.dropna(subset=['raintomorrow'], inplace=True)\n",
        "#karena kolom raintomomrrow akan dijadikan target, maka tidak boleh ada missing value\n",
        "#tidak dilakukan imputasi missing value karena saya tidak menginginkan data yang di train berisi data ghaib\n",
        "#hal ini dilakukan untuk menjaga model tetap akurat\n"
      ]
    },
    {
      "cell_type": "code",
      "execution_count": 31,
      "metadata": {
        "id": "EeD9YwM9AON1"
      },
      "outputs": [],
      "source": [
        "#memisahkan kolom label dengan feature\n",
        "X = df_train_test.drop('raintomorrow', axis=1)\n",
        "y = df_train_test['raintomorrow']"
      ]
    },
    {
      "cell_type": "code",
      "execution_count": 32,
      "metadata": {
        "id": "pkK6B2c-agoy"
      },
      "outputs": [],
      "source": [
        "df_train_test = df_train_test.reset_index(drop=True)\n",
        "df_inf = df_inf.reset_index(drop=True)"
      ]
    },
    {
      "cell_type": "markdown",
      "metadata": {
        "id": "PRisux0NAON1"
      },
      "source": [
        "## Split Data"
      ]
    },
    {
      "cell_type": "code",
      "execution_count": 33,
      "metadata": {
        "id": "86QmcsasAOOA"
      },
      "outputs": [],
      "source": [
        "from sklearn.model_selection import train_test_split\n",
        "\n",
        "X_train, X_test, y_train, y_test = train_test_split(X, y, test_size=0.2, random_state=15, stratify=y)\n"
      ]
    },
    {
      "cell_type": "markdown",
      "metadata": {
        "id": "-ZLYf_SIAOOB"
      },
      "source": [
        "## Outliers\n",
        "Handling outliers perlu dilakukan untuk meminimalisir nilai error pada model. Namun perlu dipastikan apakah data memiliki outliers/tidak"
      ]
    },
    {
      "cell_type": "code",
      "execution_count": 34,
      "metadata": {
        "colab": {
          "base_uri": "https://localhost:8080/",
          "height": 411
        },
        "id": "ojbpPnlTAOOC",
        "outputId": "2b6c8392-ce7e-4184-df31-6780ddae06f1"
      },
      "outputs": [
        {
          "data": {
            "image/png": "[encoded data removed]",
            "text/plain": [
              "<Figure size 2160x720 with 1 Axes>"
            ]
          },
          "metadata": {
            "needs_background": "light"
          },
          "output_type": "display_data"
        }
      ],
      "source": [
        "X_train.boxplot(figsize=(30, 10))\n",
        "plt.show()\n"
      ]
    },
    {
      "cell_type": "code",
      "execution_count": 35,
      "metadata": {
        "colab": {
          "base_uri": "https://localhost:8080/"
        },
        "id": "jHFTDNE1AOOC",
        "outputId": "07f36c58-7b1a-4f8b-8a60-0786f1bed1c0"
      },
      "outputs": [
        {
          "data": {
            "text/plain": [
              "mintemp          0.019836\n",
              "maxtemp          0.223955\n",
              "rainfall         9.730160\n",
              "evaporation      3.841938\n",
              "sunshine        -0.502223\n",
              "windgustspeed    0.873671\n",
              "windspeed9am     0.781968\n",
              "windspeed3pm     0.628182\n",
              "humidity9am     -0.487870\n",
              "humidity3pm      0.032889\n",
              "pressure9am     -0.100416\n",
              "pressure3pm     -0.047883\n",
              "cloud9am        -0.227106\n",
              "cloud3pm        -0.221259\n",
              "temp9am          0.089551\n",
              "temp3pm          0.242125\n",
              "raintoday        1.363894\n",
              "day              0.006458\n",
              "month            0.030701\n",
              "dtype: float64"
            ]
          },
          "execution_count": 35,
          "metadata": {},
          "output_type": "execute_result"
        }
      ],
      "source": [
        "skew_Xtrain = X_train.skew() #menggunakan .skew() untuk melihat data outlier\n",
        "skew_Xtrain\n"
      ]
    },
    {
      "cell_type": "markdown",
      "metadata": {
        "id": "dsDxwPftorxR"
      },
      "source": [
        "> Data outliers adalah data yang memiliki nilai skew < -0.5 atau > 0.5. "
      ]
    },
    {
      "cell_type": "code",
      "execution_count": 36,
      "metadata": {
        "colab": {
          "base_uri": "https://localhost:8080/"
        },
        "id": "sm597qBhAOOD",
        "outputId": "22058105-40f3-4ccf-87cf-ed42b30aadcf"
      },
      "outputs": [
        {
          "name": "stdout",
          "output_type": "stream",
          "text": [
            "kolom yang kemungkinan memiliki outliers adalah \n",
            " Index(['rainfall', 'evaporation', 'windgustspeed', 'windspeed9am',\n",
            "       'windspeed3pm', 'raintoday'],\n",
            "      dtype='object')Index(['mintemp', 'maxtemp', 'sunshine', 'humidity9am', 'humidity3pm',\n",
            "       'pressure9am', 'pressure3pm', 'cloud9am', 'cloud3pm', 'temp9am',\n",
            "       'temp3pm', 'day', 'month'],\n",
            "      dtype='object') \n"
          ]
        }
      ],
      "source": [
        "print(\n",
        "    f'kolom yang kemungkinan memiliki outliers adalah \\n {skew_Xtrain[skew_Xtrain.values>.5].index}{skew_Xtrain[skew_Xtrain.values<.5].index} ')\n"
      ]
    },
    {
      "cell_type": "markdown",
      "metadata": {
        "id": "vPtxNLRxAOOE"
      },
      "source": [
        "> Data yang skewnya extrim adalah evaporasi dan rainfall, maka kolom ini akan saya fokuskan outliernya"
      ]
    },
    {
      "cell_type": "code",
      "execution_count": 37,
      "metadata": {
        "colab": {
          "base_uri": "https://localhost:8080/",
          "height": 392
        },
        "id": "chzReVtQAOOF",
        "outputId": "306d8710-6256-4ea5-bf8e-3e62378540cf"
      },
      "outputs": [
        {
          "data": {
            "text/plain": [
              "<matplotlib.axes._subplots.AxesSubplot at 0x7f1b45146890>"
            ]
          },
          "execution_count": 37,
          "metadata": {},
          "output_type": "execute_result"
        },
        {
          "data": {
            "image/png": "[encoded data removed]",
            "text/plain": [
              "<Figure size 720x432 with 1 Axes>"
            ]
          },
          "metadata": {
            "needs_background": "light"
          },
          "output_type": "display_data"
        }
      ],
      "source": [
        "plt.figure(figsize=(10, 6))\n",
        "sns.boxplot(data=X_train[['evaporation', 'rainfall']])\n"
      ]
    },
    {
      "cell_type": "code",
      "execution_count": 38,
      "metadata": {
        "colab": {
          "base_uri": "https://localhost:8080/"
        },
        "id": "lj-HfOg7AOOF",
        "outputId": "83d35ea2-1b4d-475d-8a9c-cf8271da2b4e"
      },
      "outputs": [
        {
          "data": {
            "text/plain": [
              "rainfall\n",
              "0.0         72960\n",
              "0.2          7009\n",
              "0.4          3051\n",
              "0.6          2071\n",
              "0.8          1652\n",
              "            ...  \n",
              "79.0            1\n",
              "79.6            1\n",
              "79.8            1\n",
              "80.8            1\n",
              "367.6           1\n",
              "Length: 634, dtype: int64"
            ]
          },
          "execution_count": 38,
          "metadata": {},
          "output_type": "execute_result"
        }
      ],
      "source": [
        "X_train[['rainfall']].value_counts()"
      ]
    },
    {
      "cell_type": "markdown",
      "metadata": {
        "id": "R8h3dVbCo2w-"
      },
      "source": [
        "> Data outliers pada kolom rainfall memiliki value 367 ketika value yang lain <100"
      ]
    },
    {
      "cell_type": "markdown",
      "metadata": {
        "id": "Z3TSYHq-AOOG"
      },
      "source": [
        "berdasarkan perhitungan rainfall [disini](https://water.usgs.gov/edu/activity-howmuchrain-metric.html), setidaknya paling besar adalah 50mm. Namun dataset kali ini mencapai 371mm, menurut saya data tersebut bukanlah outlier karena dari definisinya [sumber data](http://www.bom.gov.au/climate/dwo/IDCJDW0000.shtml) rainfall tersebut diukur selama 24 jam. Dimana berarti `371 mm` adalah curah uhjan selama 24 jam. Perjamnya curah hujannya adalah `371/24 = 15.45mm` saja."
      ]
    },
    {
      "cell_type": "markdown",
      "metadata": {
        "id": "UJopRGETAOOJ"
      },
      "source": [
        "Berdasarkan [sumber](https://www.kean.edu/~csmart/Hydrology/Lectures/Evaporation_pan.pdf), evaporasi adalah hasil perhitungan dari temperatur, kelembaban, angin, dan hal lainnya. Maka, meskipun memiliki outliers, kolom evaporasi tidak independen dan tidak cocok untuk dijadikan feature"
      ]
    },
    {
      "cell_type": "markdown",
      "metadata": {
        "id": "8mKensBzAOOK"
      },
      "source": [
        "## Missing Value"
      ]
    },
    {
      "cell_type": "code",
      "execution_count": 39,
      "metadata": {
        "colab": {
          "base_uri": "https://localhost:8080/"
        },
        "id": "FiWuqUS6AOOK",
        "outputId": "4eb8e14e-dd74-48c9-e359-3e1f9ddbe96a"
      },
      "outputs": [
        {
          "data": {
            "text/plain": [
              "date                 0\n",
              "location             0\n",
              "mintemp           1168\n",
              "maxtemp            986\n",
              "rainfall          2562\n",
              "evaporation      50196\n",
              "sunshine         55822\n",
              "windgustdir       8253\n",
              "windgustspeed     8199\n",
              "winddir9am        8449\n",
              "winddir3pm        3337\n",
              "windspeed9am      1399\n",
              "windspeed3pm      2411\n",
              "humidity9am       2114\n",
              "humidity3pm       3593\n",
              "pressure9am      12010\n",
              "pressure3pm      11996\n",
              "cloud9am         44738\n",
              "cloud3pm         47472\n",
              "temp9am           1388\n",
              "temp3pm           2848\n",
              "raintoday            0\n",
              "day                  0\n",
              "month                0\n",
              "dtype: int64"
            ]
          },
          "execution_count": 39,
          "metadata": {},
          "output_type": "execute_result"
        }
      ],
      "source": [
        "X_train.isna().sum() #melihat jumlah missing value pada tiap kolom\n"
      ]
    },
    {
      "cell_type": "code",
      "execution_count": 40,
      "metadata": {
        "id": "mTBrdgm5FRKh"
      },
      "outputs": [],
      "source": [
        "X_train.rainfall.fillna(value=0, inplace=True)\n",
        "X_train.raintoday.fillna(value=0,inplace=True)"
      ]
    },
    {
      "cell_type": "markdown",
      "metadata": {
        "id": "drNLJv71pMbG"
      },
      "source": [
        "> Nilai Rainfall = 0 (yang dianggap missing) bukanlah missing value, melainkan value dimana hasil observasi curah hujan nay adalah 0. Missing Values yang lain akan dilakukan dengan menggunakan pipeline"
      ]
    },
    {
      "cell_type": "markdown",
      "metadata": {
        "id": "6LO7cFDJAOOT"
      },
      "source": [
        "## Feature Engineering"
      ]
    },
    {
      "cell_type": "code",
      "execution_count": 41,
      "metadata": {
        "id": "yL3TKT-AAOOX"
      },
      "outputs": [],
      "source": [
        "month_ordinal = OrdinalEncoder(categories=[['5', '6', '7', '8', '9', '1', '2', '3', '4', '10', '11', '12']]) #diurutkan berdasarkan EDA dimana bulan dengan potensi hujan tertinggi terjadi pada bulan 5-8\n",
        "wind_gust_dir_ordinal = OrdinalEncoder(categories=[['SW', 'NW', 'SE', 'NE', 'W', 'N', 'S', 'E']]) #diurutkan berdasarkan EDA dimana arah mata angin berpotensi untuk turun hujan\n",
        "oe=OrdinalEncoder()\n",
        "\n",
        "prep_pipeline = ColumnTransformer([\n",
        "    ('month', month_ordinal, ['month']),\n",
        "    ('raintoday',oe,['raintoday']),\n",
        "    ('windgustdir', Pipeline([\n",
        "        ('imputer', SimpleImputer(strategy='most_frequent')),\n",
        "        ('encoder', wind_gust_dir_ordinal)\n",
        "    ]), ['windgustdir']),\n",
        "\n",
        "    ('mean_imputer', Pipeline([\n",
        "        ('imputer', SimpleImputer(strategy='mean')),\n",
        "        ('scaler', MinMaxScaler())\n",
        "    ]), ['mintemp', 'windgustspeed', 'pressure9am', 'temp3pm']), #data yang distribusinya normal, sehinggal dilakukan imputasi dengan mean\n",
        "\n",
        "    ('median_imputer', Pipeline([\n",
        "        ('imputer', SimpleImputer(strategy='median')),\n",
        "        ('scaler', MinMaxScaler())\n",
        "    ]), ['sunshine', 'windspeed9am', 'humidity3pm', 'cloud3pm']),#data yang distribusinya skew, sehinggal dilakukan imputasi dengan median\n",
        "])"
      ]
    },
    {
      "cell_type": "markdown",
      "metadata": {
        "id": "Br4jfAU4efQv"
      },
      "source": [
        "> - Feature yang dipakai untuk model adalah raintoday, month, windgustdir, mintemp, windgustspeed, pressure9am, temp3pm, sunshine, windspeed9am, humidity3pm, cloud3pm.\n",
        "> - Hanya diambil salah satu hasil observasi pada jam 9am/3pm, yang diambil adalah yang nilai correlationnya lebih tinggi (Lihat bagian EDA)\n"
      ]
    },
    {
      "cell_type": "markdown",
      "metadata": {
        "id": "ZAAoM_CEqs_Z"
      },
      "source": [
        "# 6. Model Definition\n",
        "\n",
        "Dataset yang diprediksi adalah klasifikasi, maka model yang digunakan adalah model Logistic Regression dan LinearSVC. Pemilihan model SVM menggunakan LinearSVC karena berdasarkan [sumber](https://scikit-learn.org/stable/modules/generated/sklearn.svm.SVC.html#sklearn.svm.SVC) untuk dataset yang lebih besar disarankan menggunakan LinearSVC. Saya mempertimbangkan kesederhanaan dalam pembuatan model karena itu menggunakan LinearSVC (sama seperti SVC namun menggunakan kernel `linear`)"
      ]
    },
    {
      "cell_type": "code",
      "execution_count": 42,
      "metadata": {
        "id": "EK0tQzPuAOOY"
      },
      "outputs": [],
      "source": [
        "#Pipeline untuk Logistic Regression\n",
        "pipe_log = Pipeline([\n",
        "    ('pre', prep_pipeline),\n",
        "    ('lr', LogisticRegression()\n",
        "     )])\n",
        "\n",
        "#Parameter Tuning untuk Logistic Regression\n",
        "param_log = {\n",
        "     'lr__penalty': ['l1', 'l2', 'elasticnet', 'none'],\n",
        "     'lr__C': [0.01, 1, 100],\n",
        "     'lr__solver': ['newton-cg', 'lbfgs', 'liblinear', 'sag', 'saga']\n",
        "}\n",
        "\n",
        "\n",
        "\n",
        "\n",
        "#Pipeline untuk model LinearSVC\n",
        "pipe_svm = Pipeline([\n",
        "    ('pre', prep_pipeline),\n",
        "    ('svm', LinearSVC())\n",
        "])\n",
        "\n",
        "#Parameter untuk model LinearSVC\n",
        "param_svm = {\n",
        "    'svm__penalty': ['l1', 'l2'],\n",
        "    'svm__C': [0.01, 0.1, 1]\n",
        "}"
      ]
    },
    {
      "cell_type": "code",
      "execution_count": 43,
      "metadata": {
        "colab": {
          "base_uri": "https://localhost:8080/"
        },
        "id": "wdMpGdcaMLMq",
        "outputId": "c7b36298-e728-44d0-f5ed-b87a7b719610"
      },
      "outputs": [
        {
          "data": {
            "text/plain": [
              "DummyClassifier(random_state=42)"
            ]
          },
          "execution_count": 43,
          "metadata": {},
          "output_type": "execute_result"
        }
      ],
      "source": [
        "#baseline model\n",
        "baseline = DummyClassifier(random_state=42)\n",
        "baseline.fit(X_train, y_train)"
      ]
    },
    {
      "cell_type": "markdown",
      "metadata": {
        "id": "erUPLIvprQM6"
      },
      "source": [
        "# 7. Model Training"
      ]
    },
    {
      "cell_type": "markdown",
      "metadata": {
        "id": "ng6EmcUBrWEt"
      },
      "source": [
        "## Logistic Regression Model"
      ]
    },
    {
      "cell_type": "code",
      "execution_count": 44,
      "metadata": {
        "colab": {
          "base_uri": "https://localhost:8080/"
        },
        "id": "eZT9Z3LxAOOY",
        "outputId": "cd3d2fd4-a7a1-487c-bbae-956c32ff7cc4"
      },
      "outputs": [
        {
          "name": "stdout",
          "output_type": "stream",
          "text": [
            "Fitting 3 folds for each of 60 candidates, totalling 180 fits\n"
          ]
        }
      ],
      "source": [
        "#Menggunakan GridSearchCV untuk menemukan fine tuning terbaik untuk model logistic regression\n",
        "grid_log = GridSearchCV(pipe_log, param_log, cv=3, n_jobs=-1, verbose=True).fit(X_train, y_train); #2m"
      ]
    },
    {
      "cell_type": "code",
      "execution_count": 45,
      "metadata": {
        "colab": {
          "base_uri": "https://localhost:8080/"
        },
        "id": "kCHHcygrmGU-",
        "outputId": "49efb284-452a-4556-f1df-f05e27096f77"
      },
      "outputs": [
        {
          "data": {
            "text/plain": [
              "{'lr__C': 100, 'lr__penalty': 'l2', 'lr__solver': 'sag'}"
            ]
          },
          "execution_count": 45,
          "metadata": {},
          "output_type": "execute_result"
        }
      ],
      "source": [
        "#melihat tuning terbaik yang digunakan oleh model\n",
        "grid_log.best_params_"
      ]
    },
    {
      "cell_type": "markdown",
      "metadata": {
        "id": "LHsbfxGwiHrz"
      },
      "source": [
        "> Hyperparameter untuk model LogisticRegression adalah :\n",
        "> 1. C = 100\n",
        "> 2. penalty = l2\n",
        "> 3. solver = sag"
      ]
    },
    {
      "cell_type": "code",
      "execution_count": 46,
      "metadata": {
        "id": "bDZkmN5t62nv"
      },
      "outputs": [],
      "source": [
        "#menggunakan pipeline dengan finetuning yang paling baik\n",
        "log_best = grid_log.best_estimator_"
      ]
    },
    {
      "cell_type": "markdown",
      "metadata": {
        "id": "v6pvZKzmKyH3"
      },
      "source": [
        "## SVM Model"
      ]
    },
    {
      "cell_type": "code",
      "execution_count": 47,
      "metadata": {
        "colab": {
          "base_uri": "https://localhost:8080/"
        },
        "id": "lsaXuZ5JKDMW",
        "outputId": "414e0f2b-be1d-4fd9-bcd1-3ba445101c44"
      },
      "outputs": [
        {
          "name": "stdout",
          "output_type": "stream",
          "text": [
            "Fitting 3 folds for each of 6 candidates, totalling 18 fits\n"
          ]
        }
      ],
      "source": [
        "#Menggunakan GridSearchCV untuk menemukan fine tuning terbaik untuk model LinearSVC\n",
        "grid_svc = GridSearchCV(pipe_svm, param_svm, cv=3, n_jobs=-1, verbose=True).fit(X_train, y_train);"
      ]
    },
    {
      "cell_type": "code",
      "execution_count": 48,
      "metadata": {
        "colab": {
          "base_uri": "https://localhost:8080/"
        },
        "id": "kP_zt-homjGX",
        "outputId": "7c305c58-36a2-4d2a-9fd3-8f6fa3ad27d9"
      },
      "outputs": [
        {
          "data": {
            "text/plain": [
              "{'svm__C': 1, 'svm__penalty': 'l2'}"
            ]
          },
          "execution_count": 48,
          "metadata": {},
          "output_type": "execute_result"
        }
      ],
      "source": [
        "#melihat finetuning terbaik yang digunakna oleh model LinearSVC\n",
        "grid_svc.best_params_"
      ]
    },
    {
      "cell_type": "markdown",
      "metadata": {
        "id": "foFNtRksiBeN"
      },
      "source": [
        "> Hyperparameter untuk model LinearSVC adalah :\n",
        "1. C = 1.0\n",
        "2. Penalty = l2"
      ]
    },
    {
      "cell_type": "code",
      "execution_count": 49,
      "metadata": {
        "id": "UhepSFO67R_2"
      },
      "outputs": [],
      "source": [
        "#menggunakan pipeline terbaik untuk model LinearSVC\n",
        "svc_best = grid_svc.best_estimator_"
      ]
    },
    {
      "cell_type": "markdown",
      "metadata": {
        "id": "jGGWMF-csp6O"
      },
      "source": [
        "# 8.Model Evaluation"
      ]
    },
    {
      "cell_type": "markdown",
      "metadata": {
        "id": "EdEg9ioATizI"
      },
      "source": [
        "Evaluasi tiap model menggunakan pipeline terbaik dari masing-masing model"
      ]
    },
    {
      "cell_type": "code",
      "execution_count": 50,
      "metadata": {
        "colab": {
          "base_uri": "https://localhost:8080/"
        },
        "id": "BnvpT9KDsq4y",
        "outputId": "4d675a5f-7e33-4e2f-80d2-be8522977af4"
      },
      "outputs": [
        {
          "name": "stdout",
          "output_type": "stream",
          "text": [
            "Training set score Logistic Regression: 0.8412481523495239\n",
            "Test set score Logistic Regression: 0.8381630057406071\n",
            "\n",
            "Training set score SVC: 0.8406637791756901\n",
            "Test set score SVC: 0.8367880100374686\n"
          ]
        }
      ],
      "source": [
        "print('Training set score Logistic Regression: ' + str(log_best.score(X_train, y_train)))\n",
        "print('Test set score Logistic Regression: ' + str(log_best.score(X_test, y_test)))\n",
        "\n",
        "print('\\nTraining set score SVC: ' + str(svc_best.score(X_train, y_train)))\n",
        "print('Test set score SVC: ' + str(svc_best.score(X_test, y_test)))"
      ]
    },
    {
      "cell_type": "markdown",
      "metadata": {
        "id": "5ToVQPxETmqy"
      },
      "source": [
        "Melihat classification report dari model yang di training"
      ]
    },
    {
      "cell_type": "code",
      "execution_count": 51,
      "metadata": {
        "colab": {
          "base_uri": "https://localhost:8080/"
        },
        "id": "vwCP7Gh7tIxL",
        "outputId": "6127a9c6-c71e-409d-ae84-ae80f93c2a3d"
      },
      "outputs": [
        {
          "name": "stdout",
          "output_type": "stream",
          "text": [
            "Logistic Regression\n",
            "               precision    recall  f1-score   support\n",
            "\n",
            "           0       0.86      0.94      0.90     22716\n",
            "           1       0.70      0.46      0.56      6375\n",
            "\n",
            "    accuracy                           0.84     29091\n",
            "   macro avg       0.78      0.70      0.73     29091\n",
            "weighted avg       0.83      0.84      0.83     29091\n",
            "\n",
            "\n",
            "Linear SVC\n",
            "               precision    recall  f1-score   support\n",
            "\n",
            "           0       0.86      0.95      0.90     22716\n",
            "           1       0.71      0.44      0.54      6375\n",
            "\n",
            "    accuracy                           0.84     29091\n",
            "   macro avg       0.78      0.69      0.72     29091\n",
            "weighted avg       0.82      0.84      0.82     29091\n",
            "\n",
            "\n",
            "Dummy Baseline\n",
            "               precision    recall  f1-score   support\n",
            "\n",
            "           0       0.78      1.00      0.88     22716\n",
            "           1       0.00      0.00      0.00      6375\n",
            "\n",
            "    accuracy                           0.78     29091\n",
            "   macro avg       0.39      0.50      0.44     29091\n",
            "weighted avg       0.61      0.78      0.68     29091\n",
            "\n"
          ]
        }
      ],
      "source": [
        "print('Logistic Regression\\n',classification_report(y_test, log_best.predict(X_test)))\n",
        "print('\\nLinear SVC\\n', classification_report(y_test, svc_best.predict(X_test)))\n",
        "print('\\nDummy Baseline\\n', classification_report(y_test, baseline.predict(X_test)))"
      ]
    },
    {
      "cell_type": "markdown",
      "metadata": {
        "id": "eYUbjIF72pEc"
      },
      "source": [
        " > 1. Akurasi bernilai 84 terlihat bagus, namun angka ini adalah BIAS karena data antara hujan/tidak tidak seimbang (imbalance)\n",
        " > 2.  Model yang dibuat tidak dapat memprediksi hujan (1) dengan baik. Hal ini dapat dilihat dari nilai `f1-score` pada kelas 1, hal ini terjadi karena data imbalance sehingga model kekurangan data untuk training.\n",
        " > 3. Model LogisticRegression mneghasilkan result lebih baik karena nilai precision, f1score, dan akurasinya lebih tinggi\n",
        " > 4. Dalam prediksi hujan / tidak, sebaiknya difokuskan untuk memaksimalkan nilai `recall` karena lebih baik nilai `actualnya tidak hujan` namun `terprediksi hujan` agar kita lebih bersiap-siap mengahdapi hujan di hari esok."
      ]
    },
    {
      "cell_type": "code",
      "execution_count": 52,
      "metadata": {
        "colab": {
          "base_uri": "https://localhost:8080/"
        },
        "id": "4NOTqy6-s1xf",
        "outputId": "795818ce-cade-4677-eabb-3188f110dc39"
      },
      "outputs": [
        {
          "name": "stdout",
          "output_type": "stream",
          "text": [
            "Skor Dengan Model Logistic Regression  0.84\n",
            "Skor Dengan Model LinearSVC  0.84\n"
          ]
        }
      ],
      "source": [
        "#Komparasi Model pada TEST set\n",
        "logreg = grid_log.score(X_test, y_test)\n",
        "svc = grid_svc.score(X_test, y_test)\n",
        "\n",
        "print('Skor Dengan Model Logistic Regression ',round(logreg,2))\n",
        "print('Skor Dengan Model LinearSVC ',round(svc,2))"
      ]
    },
    {
      "cell_type": "code",
      "execution_count": 53,
      "metadata": {
        "colab": {
          "base_uri": "https://localhost:8080/"
        },
        "id": "i5zv-kVkuxxX",
        "outputId": "e54ad46f-4250-45ce-ae0d-7d00839c5af3"
      },
      "outputs": [
        {
          "data": {
            "text/plain": [
              "array([[21446,  1270],\n",
              "       [ 3438,  2937]])"
            ]
          },
          "execution_count": 53,
          "metadata": {},
          "output_type": "execute_result"
        }
      ],
      "source": [
        "#melihat confusion matrix untuk model logistic regression\n",
        "log_confusion = confusion_matrix(y_test, log_best.predict(X_test))\n",
        "log_confusion"
      ]
    },
    {
      "cell_type": "markdown",
      "metadata": {
        "id": "bCGA_Fouu5ui"
      },
      "source": [
        "> Model Logistic Regression memprediksi 21446 + 2937 data yang benar, dan 3438 + 2937 data yang salah. "
      ]
    },
    {
      "cell_type": "code",
      "execution_count": 54,
      "metadata": {
        "colab": {
          "base_uri": "https://localhost:8080/"
        },
        "id": "X28v0PMiunhF",
        "outputId": "70db33c9-a63d-43bd-cab1-258c20902503"
      },
      "outputs": [
        {
          "data": {
            "text/plain": [
              "array([[21549,  1167],\n",
              "       [ 3581,  2794]])"
            ]
          },
          "execution_count": 54,
          "metadata": {},
          "output_type": "execute_result"
        }
      ],
      "source": [
        "svc_confusion = confusion_matrix(y_test, svc_best.predict(X_test))\n",
        "svc_confusion"
      ]
    },
    {
      "cell_type": "markdown",
      "metadata": {
        "id": "0Jww7JYbur9H"
      },
      "source": [
        "> Model Linear SVC berhasil memprediksi 21549 + 2749 data yang benar, dan 1167 + 2794 data yang salah prediksi"
      ]
    },
    {
      "cell_type": "markdown",
      "metadata": {
        "id": "oUBqjMLVN9j8"
      },
      "source": [
        "Nilai ROC AUC Score untuk LinearSVC Test"
      ]
    },
    {
      "cell_type": "code",
      "execution_count": 55,
      "metadata": {
        "colab": {
          "base_uri": "https://localhost:8080/",
          "height": 803
        },
        "id": "V2ehF6hHHSqm",
        "outputId": "a6674604-6671-41e4-f827-988a80900a2b"
      },
      "outputs": [
        {
          "data": {
            "image/png": "[encoded data removed]",
            "text/plain": [
              "<Figure size 432x288 with 1 Axes>"
            ]
          },
          "metadata": {
            "needs_background": "light"
          },
          "output_type": "display_data"
        },
        {
          "data": {
            "image/png": "[encoded data removed]",
            "text/plain": [
              "<Figure size 432x288 with 1 Axes>"
            ]
          },
          "metadata": {
            "needs_background": "light"
          },
          "output_type": "display_data"
        },
        {
          "data": {
            "image/png": "[encoded data removed]",
            "text/plain": [
              "<Figure size 432x288 with 1 Axes>"
            ]
          },
          "metadata": {
            "needs_background": "light"
          },
          "output_type": "display_data"
        }
      ],
      "source": [
        "plt.show(plot_roc_curve(svc_best, X_test, y_test))\n",
        "plt.show(plot_roc_curve(log_best, X_test, y_test))\n",
        "plt.show(plot_roc_curve(baseline, X_test, y_test))"
      ]
    },
    {
      "cell_type": "markdown",
      "metadata": {
        "id": "mOEsTNapOBa4"
      },
      "source": [
        "> -  Hasil ROC AUC Score pada model Logistic Regression & LinearSVC tidak berbeda karena sama-sama menghasilkan nilai 0.85\n",
        "> - Model yang dipakai sudah lebih baik daripada baseline dumym"
      ]
    },
    {
      "cell_type": "markdown",
      "metadata": {
        "id": "6MfFLMYXvGvz"
      },
      "source": [
        "# 9. Model Inference\n",
        "Menguji model menggunakan data inference (df_inf)"
      ]
    },
    {
      "cell_type": "code",
      "execution_count": 56,
      "metadata": {
        "colab": {
          "base_uri": "https://localhost:8080/",
          "height": 206
        },
        "id": "HUUBJpi0vHor",
        "outputId": "36961aa9-60ad-4a75-9d68-6dd69eab2bb6"
      },
      "outputs": [
        {
          "data": {
            "text/html": [
              "\n",
              "  <div id=\"df-6f84ed35-b248-424f-b485-52cc79d1ae17\">\n",
              "    <div class=\"colab-df-container\">\n",
              "      <div>\n",
              "<style scoped>\n",
              "    .dataframe tbody tr th:only-of-type {\n",
              "        vertical-align: middle;\n",
              "    }\n",
              "\n",
              "    .dataframe tbody tr th {\n",
              "        vertical-align: top;\n",
              "    }\n",
              "\n",
              "    .dataframe thead th {\n",
              "        text-align: right;\n",
              "    }\n",
              "</style>\n",
              "<table border=\"1\" class=\"dataframe\">\n",
              "  <thead>\n",
              "    <tr style=\"text-align: right;\">\n",
              "      <th></th>\n",
              "      <th>prediksi_hujan_besok_log</th>\n",
              "    </tr>\n",
              "  </thead>\n",
              "  <tbody>\n",
              "    <tr>\n",
              "      <th>0</th>\n",
              "      <td>1</td>\n",
              "    </tr>\n",
              "    <tr>\n",
              "      <th>1</th>\n",
              "      <td>0</td>\n",
              "    </tr>\n",
              "    <tr>\n",
              "      <th>2</th>\n",
              "      <td>1</td>\n",
              "    </tr>\n",
              "    <tr>\n",
              "      <th>3</th>\n",
              "      <td>0</td>\n",
              "    </tr>\n",
              "    <tr>\n",
              "      <th>4</th>\n",
              "      <td>0</td>\n",
              "    </tr>\n",
              "  </tbody>\n",
              "</table>\n",
              "</div>\n",
              "      <button class=\"colab-df-convert\" onclick=\"convertToInteractive('df-6f84ed35-b248-424f-b485-52cc79d1ae17')\"\n",
              "              title=\"Convert this dataframe to an interactive table.\"\n",
              "              style=\"display:none;\">\n",
              "        \n",
              "  <svg xmlns=\"http://www.w3.org/2000/svg\" height=\"24px\"viewBox=\"0 0 24 24\"\n",
              "       width=\"24px\">\n",
              "    <path d=\"M0 0h24v24H0V0z\" fill=\"none\"/>\n",
              "    <path d=\"M18.56 5.44l.94 2.06.94-2.06 2.06-.94-2.06-.94-.94-2.06-.94 2.06-2.06.94zm-11 1L8.5 8.5l.94-2.06 2.06-.94-2.06-.94L8.5 2.5l-.94 2.06-2.06.94zm10 10l.94 2.06.94-2.06 2.06-.94-2.06-.94-.94-2.06-.94 2.06-2.06.94z\"/><path d=\"M17.41 7.96l-1.37-1.37c-.4-.4-.92-.59-1.43-.59-.52 0-1.04.2-1.43.59L10.3 9.45l-7.72 7.72c-.78.78-.78 2.05 0 2.83L4 21.41c.39.39.9.59 1.41.59.51 0 1.02-.2 1.41-.59l7.78-7.78 2.81-2.81c.8-.78.8-2.07 0-2.86zM5.41 20L4 18.59l7.72-7.72 1.47 1.35L5.41 20z\"/>\n",
              "  </svg>\n",
              "      </button>\n",
              "      \n",
              "  <style>\n",
              "    .colab-df-container {\n",
              "      display:flex;\n",
              "      flex-wrap:wrap;\n",
              "      gap: 12px;\n",
              "    }\n",
              "\n",
              "    .colab-df-convert {\n",
              "      background-color: #E8F0FE;\n",
              "      border: none;\n",
              "      border-radius: 50%;\n",
              "      cursor: pointer;\n",
              "      display: none;\n",
              "      fill: #1967D2;\n",
              "      height: 32px;\n",
              "      padding: 0 0 0 0;\n",
              "      width: 32px;\n",
              "    }\n",
              "\n",
              "    .colab-df-convert:hover {\n",
              "      background-color: #E2EBFA;\n",
              "      box-shadow: 0px 1px 2px rgba(60, 64, 67, 0.3), 0px 1px 3px 1px rgba(60, 64, 67, 0.15);\n",
              "      fill: #174EA6;\n",
              "    }\n",
              "\n",
              "    [theme=dark] .colab-df-convert {\n",
              "      background-color: #3B4455;\n",
              "      fill: #D2E3FC;\n",
              "    }\n",
              "\n",
              "    [theme=dark] .colab-df-convert:hover {\n",
              "      background-color: #434B5C;\n",
              "      box-shadow: 0px 1px 3px 1px rgba(0, 0, 0, 0.15);\n",
              "      filter: drop-shadow(0px 1px 2px rgba(0, 0, 0, 0.3));\n",
              "      fill: #FFFFFF;\n",
              "    }\n",
              "  </style>\n",
              "\n",
              "      <script>\n",
              "        const buttonEl =\n",
              "          document.querySelector('#df-6f84ed35-b248-424f-b485-52cc79d1ae17 button.colab-df-convert');\n",
              "        buttonEl.style.display =\n",
              "          google.colab.kernel.accessAllowed ? 'block' : 'none';\n",
              "\n",
              "        async function convertToInteractive(key) {\n",
              "          const element = document.querySelector('#df-6f84ed35-b248-424f-b485-52cc79d1ae17');\n",
              "          const dataTable =\n",
              "            await google.colab.kernel.invokeFunction('convertToInteractive',\n",
              "                                                     [key], {});\n",
              "          if (!dataTable) return;\n",
              "\n",
              "          const docLinkHtml = 'Like what you see? Visit the ' +\n",
              "            '<a target=\"_blank\" href=https://colab.research.google.com/notebooks/data_table.ipynb>data table notebook</a>'\n",
              "            + ' to learn more about interactive tables.';\n",
              "          element.innerHTML = '';\n",
              "          dataTable['output_type'] = 'display_data';\n",
              "          await google.colab.output.renderOutput(dataTable, element);\n",
              "          const docLink = document.createElement('div');\n",
              "          docLink.innerHTML = docLinkHtml;\n",
              "          element.appendChild(docLink);\n",
              "        }\n",
              "      </script>\n",
              "    </div>\n",
              "  </div>\n",
              "  "
            ],
            "text/plain": [
              "   prediksi_hujan_besok_log\n",
              "0                         1\n",
              "1                         0\n",
              "2                         1\n",
              "3                         0\n",
              "4                         0"
            ]
          },
          "execution_count": 56,
          "metadata": {},
          "output_type": "execute_result"
        }
      ],
      "source": [
        "#prediksi data inference dengan LogisticRegression\n",
        "inf_pred_log = log_best.predict(df_inf)\n",
        "inf_pred_df_log = pd.DataFrame(inf_pred_log, columns=['prediksi_hujan_besok_log'])\n",
        "inf_pred_df_log"
      ]
    },
    {
      "cell_type": "code",
      "execution_count": 57,
      "metadata": {
        "colab": {
          "base_uri": "https://localhost:8080/",
          "height": 206
        },
        "id": "aHC9J-ctvt22",
        "outputId": "ab88f8db-9cd6-470e-cedf-2db19e70d4bb"
      },
      "outputs": [
        {
          "data": {
            "text/html": [
              "\n",
              "  <div id=\"df-116b4e13-d1cf-4e9c-9c0f-b86ab57aaea0\">\n",
              "    <div class=\"colab-df-container\">\n",
              "      <div>\n",
              "<style scoped>\n",
              "    .dataframe tbody tr th:only-of-type {\n",
              "        vertical-align: middle;\n",
              "    }\n",
              "\n",
              "    .dataframe tbody tr th {\n",
              "        vertical-align: top;\n",
              "    }\n",
              "\n",
              "    .dataframe thead th {\n",
              "        text-align: right;\n",
              "    }\n",
              "</style>\n",
              "<table border=\"1\" class=\"dataframe\">\n",
              "  <thead>\n",
              "    <tr style=\"text-align: right;\">\n",
              "      <th></th>\n",
              "      <th>prediksi_hujan_besok_svc</th>\n",
              "    </tr>\n",
              "  </thead>\n",
              "  <tbody>\n",
              "    <tr>\n",
              "      <th>0</th>\n",
              "      <td>1</td>\n",
              "    </tr>\n",
              "    <tr>\n",
              "      <th>1</th>\n",
              "      <td>0</td>\n",
              "    </tr>\n",
              "    <tr>\n",
              "      <th>2</th>\n",
              "      <td>1</td>\n",
              "    </tr>\n",
              "    <tr>\n",
              "      <th>3</th>\n",
              "      <td>0</td>\n",
              "    </tr>\n",
              "    <tr>\n",
              "      <th>4</th>\n",
              "      <td>0</td>\n",
              "    </tr>\n",
              "  </tbody>\n",
              "</table>\n",
              "</div>\n",
              "      <button class=\"colab-df-convert\" onclick=\"convertToInteractive('df-116b4e13-d1cf-4e9c-9c0f-b86ab57aaea0')\"\n",
              "              title=\"Convert this dataframe to an interactive table.\"\n",
              "              style=\"display:none;\">\n",
              "        \n",
              "  <svg xmlns=\"http://www.w3.org/2000/svg\" height=\"24px\"viewBox=\"0 0 24 24\"\n",
              "       width=\"24px\">\n",
              "    <path d=\"M0 0h24v24H0V0z\" fill=\"none\"/>\n",
              "    <path d=\"M18.56 5.44l.94 2.06.94-2.06 2.06-.94-2.06-.94-.94-2.06-.94 2.06-2.06.94zm-11 1L8.5 8.5l.94-2.06 2.06-.94-2.06-.94L8.5 2.5l-.94 2.06-2.06.94zm10 10l.94 2.06.94-2.06 2.06-.94-2.06-.94-.94-2.06-.94 2.06-2.06.94z\"/><path d=\"M17.41 7.96l-1.37-1.37c-.4-.4-.92-.59-1.43-.59-.52 0-1.04.2-1.43.59L10.3 9.45l-7.72 7.72c-.78.78-.78 2.05 0 2.83L4 21.41c.39.39.9.59 1.41.59.51 0 1.02-.2 1.41-.59l7.78-7.78 2.81-2.81c.8-.78.8-2.07 0-2.86zM5.41 20L4 18.59l7.72-7.72 1.47 1.35L5.41 20z\"/>\n",
              "  </svg>\n",
              "      </button>\n",
              "      \n",
              "  <style>\n",
              "    .colab-df-container {\n",
              "      display:flex;\n",
              "      flex-wrap:wrap;\n",
              "      gap: 12px;\n",
              "    }\n",
              "\n",
              "    .colab-df-convert {\n",
              "      background-color: #E8F0FE;\n",
              "      border: none;\n",
              "      border-radius: 50%;\n",
              "      cursor: pointer;\n",
              "      display: none;\n",
              "      fill: #1967D2;\n",
              "      height: 32px;\n",
              "      padding: 0 0 0 0;\n",
              "      width: 32px;\n",
              "    }\n",
              "\n",
              "    .colab-df-convert:hover {\n",
              "      background-color: #E2EBFA;\n",
              "      box-shadow: 0px 1px 2px rgba(60, 64, 67, 0.3), 0px 1px 3px 1px rgba(60, 64, 67, 0.15);\n",
              "      fill: #174EA6;\n",
              "    }\n",
              "\n",
              "    [theme=dark] .colab-df-convert {\n",
              "      background-color: #3B4455;\n",
              "      fill: #D2E3FC;\n",
              "    }\n",
              "\n",
              "    [theme=dark] .colab-df-convert:hover {\n",
              "      background-color: #434B5C;\n",
              "      box-shadow: 0px 1px 3px 1px rgba(0, 0, 0, 0.15);\n",
              "      filter: drop-shadow(0px 1px 2px rgba(0, 0, 0, 0.3));\n",
              "      fill: #FFFFFF;\n",
              "    }\n",
              "  </style>\n",
              "\n",
              "      <script>\n",
              "        const buttonEl =\n",
              "          document.querySelector('#df-116b4e13-d1cf-4e9c-9c0f-b86ab57aaea0 button.colab-df-convert');\n",
              "        buttonEl.style.display =\n",
              "          google.colab.kernel.accessAllowed ? 'block' : 'none';\n",
              "\n",
              "        async function convertToInteractive(key) {\n",
              "          const element = document.querySelector('#df-116b4e13-d1cf-4e9c-9c0f-b86ab57aaea0');\n",
              "          const dataTable =\n",
              "            await google.colab.kernel.invokeFunction('convertToInteractive',\n",
              "                                                     [key], {});\n",
              "          if (!dataTable) return;\n",
              "\n",
              "          const docLinkHtml = 'Like what you see? Visit the ' +\n",
              "            '<a target=\"_blank\" href=https://colab.research.google.com/notebooks/data_table.ipynb>data table notebook</a>'\n",
              "            + ' to learn more about interactive tables.';\n",
              "          element.innerHTML = '';\n",
              "          dataTable['output_type'] = 'display_data';\n",
              "          await google.colab.output.renderOutput(dataTable, element);\n",
              "          const docLink = document.createElement('div');\n",
              "          docLink.innerHTML = docLinkHtml;\n",
              "          element.appendChild(docLink);\n",
              "        }\n",
              "      </script>\n",
              "    </div>\n",
              "  </div>\n",
              "  "
            ],
            "text/plain": [
              "   prediksi_hujan_besok_svc\n",
              "0                         1\n",
              "1                         0\n",
              "2                         1\n",
              "3                         0\n",
              "4                         0"
            ]
          },
          "execution_count": 57,
          "metadata": {},
          "output_type": "execute_result"
        }
      ],
      "source": [
        "#prediksi data inference dengan model LinearSVC\n",
        "inf_pred_svc = svc_best.predict(df_inf)\n",
        "inf_pred_df_svc = pd.DataFrame(inf_pred_svc, columns=['prediksi_hujan_besok_svc'])\n",
        "inf_pred_df_svc"
      ]
    },
    {
      "cell_type": "code",
      "execution_count": 58,
      "metadata": {
        "id": "8AJF8W2VzKZv"
      },
      "outputs": [],
      "source": [
        "df_inf_pred = pd.concat([inf_pred_df_log ,inf_pred_df_svc ], axis=1)"
      ]
    },
    {
      "cell_type": "code",
      "execution_count": 59,
      "metadata": {
        "colab": {
          "base_uri": "https://localhost:8080/",
          "height": 356
        },
        "id": "Ws3Ba2HXz5xW",
        "outputId": "caf2c052-4b13-4840-e8b8-9cb36b964ece"
      },
      "outputs": [
        {
          "data": {
            "text/html": [
              "\n",
              "  <div id=\"df-04362e96-7fd3-4aaf-ab7a-277c22a2360b\">\n",
              "    <div class=\"colab-df-container\">\n",
              "      <div>\n",
              "<style scoped>\n",
              "    .dataframe tbody tr th:only-of-type {\n",
              "        vertical-align: middle;\n",
              "    }\n",
              "\n",
              "    .dataframe tbody tr th {\n",
              "        vertical-align: top;\n",
              "    }\n",
              "\n",
              "    .dataframe thead th {\n",
              "        text-align: right;\n",
              "    }\n",
              "</style>\n",
              "<table border=\"1\" class=\"dataframe\">\n",
              "  <thead>\n",
              "    <tr style=\"text-align: right;\">\n",
              "      <th></th>\n",
              "      <th>date</th>\n",
              "      <th>location</th>\n",
              "      <th>mintemp</th>\n",
              "      <th>maxtemp</th>\n",
              "      <th>rainfall</th>\n",
              "      <th>evaporation</th>\n",
              "      <th>sunshine</th>\n",
              "      <th>windgustdir</th>\n",
              "      <th>windgustspeed</th>\n",
              "      <th>winddir9am</th>\n",
              "      <th>winddir3pm</th>\n",
              "      <th>windspeed9am</th>\n",
              "      <th>windspeed3pm</th>\n",
              "      <th>humidity9am</th>\n",
              "      <th>humidity3pm</th>\n",
              "      <th>pressure9am</th>\n",
              "      <th>pressure3pm</th>\n",
              "      <th>cloud9am</th>\n",
              "      <th>cloud3pm</th>\n",
              "      <th>temp9am</th>\n",
              "      <th>temp3pm</th>\n",
              "      <th>raintoday</th>\n",
              "      <th>raintomorrow</th>\n",
              "      <th>day</th>\n",
              "      <th>month</th>\n",
              "      <th>prediksi_hujan_besok_log</th>\n",
              "      <th>prediksi_hujan_besok_svc</th>\n",
              "    </tr>\n",
              "  </thead>\n",
              "  <tbody>\n",
              "    <tr>\n",
              "      <th>0</th>\n",
              "      <td>2016-05-24</td>\n",
              "      <td>NorfolkIsland</td>\n",
              "      <td>15.9</td>\n",
              "      <td>21.9</td>\n",
              "      <td>0.6</td>\n",
              "      <td>4.6</td>\n",
              "      <td>NaN</td>\n",
              "      <td>W</td>\n",
              "      <td>54.0</td>\n",
              "      <td>W</td>\n",
              "      <td>WNW</td>\n",
              "      <td>24.0</td>\n",
              "      <td>22.0</td>\n",
              "      <td>61.0</td>\n",
              "      <td>75.0</td>\n",
              "      <td>1013.6</td>\n",
              "      <td>1010.4</td>\n",
              "      <td>NaN</td>\n",
              "      <td>8.0</td>\n",
              "      <td>20.9</td>\n",
              "      <td>20.3</td>\n",
              "      <td>0</td>\n",
              "      <td>1</td>\n",
              "      <td>24</td>\n",
              "      <td>5</td>\n",
              "      <td>1</td>\n",
              "      <td>1</td>\n",
              "    </tr>\n",
              "    <tr>\n",
              "      <th>1</th>\n",
              "      <td>2015-11-24</td>\n",
              "      <td>Woomera</td>\n",
              "      <td>14.2</td>\n",
              "      <td>34.4</td>\n",
              "      <td>0.0</td>\n",
              "      <td>9.4</td>\n",
              "      <td>NaN</td>\n",
              "      <td>NW</td>\n",
              "      <td>37.0</td>\n",
              "      <td>ESE</td>\n",
              "      <td>W</td>\n",
              "      <td>17.0</td>\n",
              "      <td>9.0</td>\n",
              "      <td>38.0</td>\n",
              "      <td>9.0</td>\n",
              "      <td>1017.9</td>\n",
              "      <td>1013.3</td>\n",
              "      <td>0.0</td>\n",
              "      <td>0.0</td>\n",
              "      <td>21.8</td>\n",
              "      <td>32.3</td>\n",
              "      <td>0</td>\n",
              "      <td>0</td>\n",
              "      <td>24</td>\n",
              "      <td>11</td>\n",
              "      <td>0</td>\n",
              "      <td>0</td>\n",
              "    </tr>\n",
              "    <tr>\n",
              "      <th>2</th>\n",
              "      <td>2008-07-31</td>\n",
              "      <td>Adelaide</td>\n",
              "      <td>7.6</td>\n",
              "      <td>19.3</td>\n",
              "      <td>0.8</td>\n",
              "      <td>1.8</td>\n",
              "      <td>5.0</td>\n",
              "      <td>W</td>\n",
              "      <td>69.0</td>\n",
              "      <td>NNE</td>\n",
              "      <td>NW</td>\n",
              "      <td>17.0</td>\n",
              "      <td>20.0</td>\n",
              "      <td>56.0</td>\n",
              "      <td>52.0</td>\n",
              "      <td>1006.8</td>\n",
              "      <td>1005.2</td>\n",
              "      <td>NaN</td>\n",
              "      <td>NaN</td>\n",
              "      <td>14.4</td>\n",
              "      <td>18.1</td>\n",
              "      <td>0</td>\n",
              "      <td>1</td>\n",
              "      <td>31</td>\n",
              "      <td>7</td>\n",
              "      <td>1</td>\n",
              "      <td>1</td>\n",
              "    </tr>\n",
              "    <tr>\n",
              "      <th>3</th>\n",
              "      <td>2016-06-07</td>\n",
              "      <td>Brisbane</td>\n",
              "      <td>10.4</td>\n",
              "      <td>22.4</td>\n",
              "      <td>0.0</td>\n",
              "      <td>3.2</td>\n",
              "      <td>9.8</td>\n",
              "      <td>W</td>\n",
              "      <td>35.0</td>\n",
              "      <td>WNW</td>\n",
              "      <td>W</td>\n",
              "      <td>7.0</td>\n",
              "      <td>15.0</td>\n",
              "      <td>50.0</td>\n",
              "      <td>33.0</td>\n",
              "      <td>1012.5</td>\n",
              "      <td>1008.7</td>\n",
              "      <td>0.0</td>\n",
              "      <td>1.0</td>\n",
              "      <td>17.3</td>\n",
              "      <td>22.0</td>\n",
              "      <td>0</td>\n",
              "      <td>0</td>\n",
              "      <td>7</td>\n",
              "      <td>6</td>\n",
              "      <td>0</td>\n",
              "      <td>0</td>\n",
              "    </tr>\n",
              "    <tr>\n",
              "      <th>4</th>\n",
              "      <td>2016-07-27</td>\n",
              "      <td>Watsonia</td>\n",
              "      <td>7.1</td>\n",
              "      <td>12.1</td>\n",
              "      <td>0.6</td>\n",
              "      <td>2.0</td>\n",
              "      <td>1.9</td>\n",
              "      <td>W</td>\n",
              "      <td>41.0</td>\n",
              "      <td>WSW</td>\n",
              "      <td>W</td>\n",
              "      <td>15.0</td>\n",
              "      <td>20.0</td>\n",
              "      <td>100.0</td>\n",
              "      <td>55.0</td>\n",
              "      <td>1012.7</td>\n",
              "      <td>1017.4</td>\n",
              "      <td>7.0</td>\n",
              "      <td>6.0</td>\n",
              "      <td>9.3</td>\n",
              "      <td>11.7</td>\n",
              "      <td>0</td>\n",
              "      <td>0</td>\n",
              "      <td>27</td>\n",
              "      <td>7</td>\n",
              "      <td>0</td>\n",
              "      <td>0</td>\n",
              "    </tr>\n",
              "  </tbody>\n",
              "</table>\n",
              "</div>\n",
              "      <button class=\"colab-df-convert\" onclick=\"convertToInteractive('df-04362e96-7fd3-4aaf-ab7a-277c22a2360b')\"\n",
              "              title=\"Convert this dataframe to an interactive table.\"\n",
              "              style=\"display:none;\">\n",
              "        \n",
              "  <svg xmlns=\"http://www.w3.org/2000/svg\" height=\"24px\"viewBox=\"0 0 24 24\"\n",
              "       width=\"24px\">\n",
              "    <path d=\"M0 0h24v24H0V0z\" fill=\"none\"/>\n",
              "    <path d=\"M18.56 5.44l.94 2.06.94-2.06 2.06-.94-2.06-.94-.94-2.06-.94 2.06-2.06.94zm-11 1L8.5 8.5l.94-2.06 2.06-.94-2.06-.94L8.5 2.5l-.94 2.06-2.06.94zm10 10l.94 2.06.94-2.06 2.06-.94-2.06-.94-.94-2.06-.94 2.06-2.06.94z\"/><path d=\"M17.41 7.96l-1.37-1.37c-.4-.4-.92-.59-1.43-.59-.52 0-1.04.2-1.43.59L10.3 9.45l-7.72 7.72c-.78.78-.78 2.05 0 2.83L4 21.41c.39.39.9.59 1.41.59.51 0 1.02-.2 1.41-.59l7.78-7.78 2.81-2.81c.8-.78.8-2.07 0-2.86zM5.41 20L4 18.59l7.72-7.72 1.47 1.35L5.41 20z\"/>\n",
              "  </svg>\n",
              "      </button>\n",
              "      \n",
              "  <style>\n",
              "    .colab-df-container {\n",
              "      display:flex;\n",
              "      flex-wrap:wrap;\n",
              "      gap: 12px;\n",
              "    }\n",
              "\n",
              "    .colab-df-convert {\n",
              "      background-color: #E8F0FE;\n",
              "      border: none;\n",
              "      border-radius: 50%;\n",
              "      cursor: pointer;\n",
              "      display: none;\n",
              "      fill: #1967D2;\n",
              "      height: 32px;\n",
              "      padding: 0 0 0 0;\n",
              "      width: 32px;\n",
              "    }\n",
              "\n",
              "    .colab-df-convert:hover {\n",
              "      background-color: #E2EBFA;\n",
              "      box-shadow: 0px 1px 2px rgba(60, 64, 67, 0.3), 0px 1px 3px 1px rgba(60, 64, 67, 0.15);\n",
              "      fill: #174EA6;\n",
              "    }\n",
              "\n",
              "    [theme=dark] .colab-df-convert {\n",
              "      background-color: #3B4455;\n",
              "      fill: #D2E3FC;\n",
              "    }\n",
              "\n",
              "    [theme=dark] .colab-df-convert:hover {\n",
              "      background-color: #434B5C;\n",
              "      box-shadow: 0px 1px 3px 1px rgba(0, 0, 0, 0.15);\n",
              "      filter: drop-shadow(0px 1px 2px rgba(0, 0, 0, 0.3));\n",
              "      fill: #FFFFFF;\n",
              "    }\n",
              "  </style>\n",
              "\n",
              "      <script>\n",
              "        const buttonEl =\n",
              "          document.querySelector('#df-04362e96-7fd3-4aaf-ab7a-277c22a2360b button.colab-df-convert');\n",
              "        buttonEl.style.display =\n",
              "          google.colab.kernel.accessAllowed ? 'block' : 'none';\n",
              "\n",
              "        async function convertToInteractive(key) {\n",
              "          const element = document.querySelector('#df-04362e96-7fd3-4aaf-ab7a-277c22a2360b');\n",
              "          const dataTable =\n",
              "            await google.colab.kernel.invokeFunction('convertToInteractive',\n",
              "                                                     [key], {});\n",
              "          if (!dataTable) return;\n",
              "\n",
              "          const docLinkHtml = 'Like what you see? Visit the ' +\n",
              "            '<a target=\"_blank\" href=https://colab.research.google.com/notebooks/data_table.ipynb>data table notebook</a>'\n",
              "            + ' to learn more about interactive tables.';\n",
              "          element.innerHTML = '';\n",
              "          dataTable['output_type'] = 'display_data';\n",
              "          await google.colab.output.renderOutput(dataTable, element);\n",
              "          const docLink = document.createElement('div');\n",
              "          docLink.innerHTML = docLinkHtml;\n",
              "          element.appendChild(docLink);\n",
              "        }\n",
              "      </script>\n",
              "    </div>\n",
              "  </div>\n",
              "  "
            ],
            "text/plain": [
              "        date       location  mintemp  maxtemp  rainfall  evaporation  \\\n",
              "0 2016-05-24  NorfolkIsland     15.9     21.9       0.6          4.6   \n",
              "1 2015-11-24        Woomera     14.2     34.4       0.0          9.4   \n",
              "2 2008-07-31       Adelaide      7.6     19.3       0.8          1.8   \n",
              "3 2016-06-07       Brisbane     10.4     22.4       0.0          3.2   \n",
              "4 2016-07-27       Watsonia      7.1     12.1       0.6          2.0   \n",
              "\n",
              "   sunshine windgustdir  windgustspeed winddir9am winddir3pm  windspeed9am  \\\n",
              "0       NaN           W           54.0          W        WNW          24.0   \n",
              "1       NaN          NW           37.0        ESE          W          17.0   \n",
              "2       5.0           W           69.0        NNE         NW          17.0   \n",
              "3       9.8           W           35.0        WNW          W           7.0   \n",
              "4       1.9           W           41.0        WSW          W          15.0   \n",
              "\n",
              "   windspeed3pm  humidity9am  humidity3pm  pressure9am  pressure3pm  cloud9am  \\\n",
              "0          22.0         61.0         75.0       1013.6       1010.4       NaN   \n",
              "1           9.0         38.0          9.0       1017.9       1013.3       0.0   \n",
              "2          20.0         56.0         52.0       1006.8       1005.2       NaN   \n",
              "3          15.0         50.0         33.0       1012.5       1008.7       0.0   \n",
              "4          20.0        100.0         55.0       1012.7       1017.4       7.0   \n",
              "\n",
              "   cloud3pm  temp9am  temp3pm  raintoday  raintomorrow  day month  \\\n",
              "0       8.0     20.9     20.3          0             1   24     5   \n",
              "1       0.0     21.8     32.3          0             0   24    11   \n",
              "2       NaN     14.4     18.1          0             1   31     7   \n",
              "3       1.0     17.3     22.0          0             0    7     6   \n",
              "4       6.0      9.3     11.7          0             0   27     7   \n",
              "\n",
              "   prediksi_hujan_besok_log  prediksi_hujan_besok_svc  \n",
              "0                         1                         1  \n",
              "1                         0                         0  \n",
              "2                         1                         1  \n",
              "3                         0                         0  \n",
              "4                         0                         0  "
            ]
          },
          "execution_count": 59,
          "metadata": {},
          "output_type": "execute_result"
        }
      ],
      "source": [
        "pd.concat([df_inf, df_inf_pred], axis=1)"
      ]
    },
    {
      "cell_type": "markdown",
      "metadata": {
        "id": "GSGnckz10OX6"
      },
      "source": [
        "> 1 = Hujan , 0 = Tidak Hujan"
      ]
    },
    {
      "cell_type": "markdown",
      "metadata": {
        "id": "huK1xD5fPrqE"
      },
      "source": [
        "# 10. Kesimpulan\n",
        "\n",
        "## Overall Data\n",
        "- Data yang digunakan tidak seimbang, terlalu banyak data yang memprediksi `tidak hujan` . \n",
        "- Banyak missing value pada data yang dihandle dengan imputasi mean, median, dan modus. \n",
        "- Tidak ditemukan outliers pada dataset kali ini\n",
        "- Fitur yang digunakan pada model ini adalah fitur yang memiliki korelasi baik dengan raintomorrow yaitu  raintoday, month, windgustdir, mintemp, windgustspeed, pressure9am, temp3pm, sunshine, windspeed9am, humidity3pm, cloud3pm.\n",
        "\n",
        "## Model Yang Digunakan\n",
        "Model yang digunakan kali ini adalah :\n",
        "> LogisticRegression dengan Hyperparameter \n",
        "> - C = 100\n",
        "> - penalty = l2\n",
        "> - solver = sag\n",
        "\n",
        "> LinearSVC dengan Hyperparameter\n",
        "> - C = 1.0\n",
        "> - Penalty = l2\n",
        "\n",
        "## Model Result\n",
        "> Kedua model agak sedikit overfit\n",
        "> Model yang dibuat tidak dapat memprediksi hujan dengan baik karena data yang didapatkan imbalance (kebanyakan data menunjukkan tidak hujan)\n",
        "\n",
        "> Logistic Regression :\n",
        "- Training set score Logistic Regression: 0.8412481523495239\n",
        "- Test set score Logistic Regression: 0.8381630057406071\n",
        "\n",
        "> LinearSVC : \n",
        "- Training set score SVC: 0.8406637791756901\n",
        "- Test set score SVC: 0.8367880100374686\n",
        "\n",
        "## Best Model\n",
        "Model yang baik untuk memprediksi hujan/tidak di hari esok adalah model **Logistic Regression** dengan beberapa alasan : \n",
        "> Pada model kali ini, lebih baik memaksimalkan pada nilai `recall`\n",
        "> Antara LinearSVC dan LogisticRegression, classificationreport menghasilkan nilai lebih bagus pada model LogisticRegression pada nilai recall & f1score\n",
        "\n",
        "\n",
        "\n"
      ]
    }
  ],
  "metadata": {
    "colab": {
      "collapsed_sections": [],
      "name": "h8dsft_P1W1LGSVM_CindraChatami.ipynb",
      "provenance": [],
      "toc_visible": true
    },
    "interpreter": {
      "hash": "07efdcd4b820c98a756949507a4d29d7862823915ec7477944641bea022f4f62"
    },
    "kernelspec": {
      "display_name": "Python 3.9.7 ('base')",
      "language": "python",
      "name": "python3"
    },
    "language_info": {
      "codemirror_mode": {
        "name": "ipython",
        "version": 3
      },
      "file_extension": ".py",
      "mimetype": "text/x-python",
      "name": "python",
      "nbconvert_exporter": "python",
      "pygments_lexer": "ipython3",
      "version": "3.9.7"
    },
    "orig_nbformat": 4
  },
  "nbformat": 4,
  "nbformat_minor": 0
}
